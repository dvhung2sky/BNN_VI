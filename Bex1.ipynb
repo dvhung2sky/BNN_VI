{
  "nbformat": 4,
  "nbformat_minor": 0,
  "metadata": {
    "colab": {
      "name": "Bex1",
      "provenance": [],
      "collapsed_sections": [],
      "machine_shape": "hm"
    },
    "kernelspec": {
      "name": "python3",
      "display_name": "Python 3"
    },
    "accelerator": "GPU"
  },
  "cells": [
    {
      "cell_type": "code",
      "metadata": {
        "id": "YhLR6387zWW6",
        "colab_type": "code",
        "outputId": "eca41588-82e2-4717-8d74-2bb5e8b8a4fe",
        "colab": {
          "base_uri": "https://localhost:8080/",
          "height": 204
        }
      },
      "source": [
        "!pip install pyro-ppl"
      ],
      "execution_count": 1,
      "outputs": [
        {
          "output_type": "stream",
          "text": [
            "Collecting pyro-ppl\n",
            "\u001b[?25l  Downloading https://files.pythonhosted.org/packages/c0/77/4db4946f6b5bf0601869c7b7594def42a7197729167484e1779fff5ca0d6/pyro_ppl-1.3.1-py3-none-any.whl (520kB)\n",
            "\r\u001b[K     |▋                               | 10kB 21.9MB/s eta 0:00:01\r\u001b[K     |█▎                              | 20kB 1.8MB/s eta 0:00:01\r\u001b[K     |█▉                              | 30kB 2.2MB/s eta 0:00:01\r\u001b[K     |██▌                             | 40kB 1.7MB/s eta 0:00:01\r\u001b[K     |███▏                            | 51kB 1.9MB/s eta 0:00:01\r\u001b[K     |███▊                            | 61kB 2.2MB/s eta 0:00:01\r\u001b[K     |████▍                           | 71kB 2.4MB/s eta 0:00:01\r\u001b[K     |█████                           | 81kB 2.6MB/s eta 0:00:01\r\u001b[K     |█████▋                          | 92kB 2.9MB/s eta 0:00:01\r\u001b[K     |██████▎                         | 102kB 2.8MB/s eta 0:00:01\r\u001b[K     |███████                         | 112kB 2.8MB/s eta 0:00:01\r\u001b[K     |███████▌                        | 122kB 2.8MB/s eta 0:00:01\r\u001b[K     |████████▏                       | 133kB 2.8MB/s eta 0:00:01\r\u001b[K     |████████▉                       | 143kB 2.8MB/s eta 0:00:01\r\u001b[K     |█████████▍                      | 153kB 2.8MB/s eta 0:00:01\r\u001b[K     |██████████                      | 163kB 2.8MB/s eta 0:00:01\r\u001b[K     |██████████▊                     | 174kB 2.8MB/s eta 0:00:01\r\u001b[K     |███████████▎                    | 184kB 2.8MB/s eta 0:00:01\r\u001b[K     |████████████                    | 194kB 2.8MB/s eta 0:00:01\r\u001b[K     |████████████▋                   | 204kB 2.8MB/s eta 0:00:01\r\u001b[K     |█████████████▏                  | 215kB 2.8MB/s eta 0:00:01\r\u001b[K     |█████████████▉                  | 225kB 2.8MB/s eta 0:00:01\r\u001b[K     |██████████████▌                 | 235kB 2.8MB/s eta 0:00:01\r\u001b[K     |███████████████                 | 245kB 2.8MB/s eta 0:00:01\r\u001b[K     |███████████████▊                | 256kB 2.8MB/s eta 0:00:01\r\u001b[K     |████████████████▍               | 266kB 2.8MB/s eta 0:00:01\r\u001b[K     |█████████████████               | 276kB 2.8MB/s eta 0:00:01\r\u001b[K     |█████████████████▋              | 286kB 2.8MB/s eta 0:00:01\r\u001b[K     |██████████████████▎             | 296kB 2.8MB/s eta 0:00:01\r\u001b[K     |██████████████████▉             | 307kB 2.8MB/s eta 0:00:01\r\u001b[K     |███████████████████▌            | 317kB 2.8MB/s eta 0:00:01\r\u001b[K     |████████████████████▏           | 327kB 2.8MB/s eta 0:00:01\r\u001b[K     |████████████████████▊           | 337kB 2.8MB/s eta 0:00:01\r\u001b[K     |█████████████████████▍          | 348kB 2.8MB/s eta 0:00:01\r\u001b[K     |██████████████████████          | 358kB 2.8MB/s eta 0:00:01\r\u001b[K     |██████████████████████▋         | 368kB 2.8MB/s eta 0:00:01\r\u001b[K     |███████████████████████▎        | 378kB 2.8MB/s eta 0:00:01\r\u001b[K     |████████████████████████        | 389kB 2.8MB/s eta 0:00:01\r\u001b[K     |████████████████████████▌       | 399kB 2.8MB/s eta 0:00:01\r\u001b[K     |█████████████████████████▏      | 409kB 2.8MB/s eta 0:00:01\r\u001b[K     |█████████████████████████▉      | 419kB 2.8MB/s eta 0:00:01\r\u001b[K     |██████████████████████████▍     | 430kB 2.8MB/s eta 0:00:01\r\u001b[K     |███████████████████████████     | 440kB 2.8MB/s eta 0:00:01\r\u001b[K     |███████████████████████████▊    | 450kB 2.8MB/s eta 0:00:01\r\u001b[K     |████████████████████████████▎   | 460kB 2.8MB/s eta 0:00:01\r\u001b[K     |█████████████████████████████   | 471kB 2.8MB/s eta 0:00:01\r\u001b[K     |█████████████████████████████▋  | 481kB 2.8MB/s eta 0:00:01\r\u001b[K     |██████████████████████████████▏ | 491kB 2.8MB/s eta 0:00:01\r\u001b[K     |██████████████████████████████▉ | 501kB 2.8MB/s eta 0:00:01\r\u001b[K     |███████████████████████████████▌| 512kB 2.8MB/s eta 0:00:01\r\u001b[K     |████████████████████████████████| 522kB 2.8MB/s \n",
            "\u001b[?25hRequirement already satisfied: opt-einsum>=2.3.2 in /usr/local/lib/python3.6/dist-packages (from pyro-ppl) (3.2.0)\n",
            "Requirement already satisfied: torch>=1.4.0 in /usr/local/lib/python3.6/dist-packages (from pyro-ppl) (1.4.0)\n",
            "Requirement already satisfied: tqdm>=4.36 in /usr/local/lib/python3.6/dist-packages (from pyro-ppl) (4.38.0)\n",
            "Collecting pyro-api>=0.1.1\n",
            "  Downloading https://files.pythonhosted.org/packages/c2/bc/6cdbd1929e32fff62a33592633c2cc0393c7f7739131ccc9c9c4e28ac8dd/pyro_api-0.1.1-py3-none-any.whl\n",
            "Requirement already satisfied: numpy>=1.7 in /usr/local/lib/python3.6/dist-packages (from pyro-ppl) (1.18.2)\n",
            "Installing collected packages: pyro-api, pyro-ppl\n",
            "Successfully installed pyro-api-0.1.1 pyro-ppl-1.3.1\n"
          ],
          "name": "stdout"
        }
      ]
    },
    {
      "cell_type": "code",
      "metadata": {
        "id": "WYjVT6ctzdJA",
        "colab_type": "code",
        "outputId": "444aa7f0-f839-4196-fd91-6f7aec21c182",
        "colab": {
          "base_uri": "https://localhost:8080/",
          "height": 51
        }
      },
      "source": [
        "import os\n",
        "from functools import partial\n",
        "import torch\n",
        "import numpy as np\n",
        "import pandas as pd\n",
        "import seaborn as sns\n",
        "import matplotlib.pyplot as plt\n",
        "\n",
        "from torch import nn\n",
        "import pyro\n",
        "from pyro.nn import PyroModule\n",
        "from pyro.nn import PyroSample\n",
        "import pyro.distributions as dist\n",
        "from pyro.infer.autoguide import AutoDiagonalNormal\n",
        "from pyro.infer import SVI, Trace_ELBO\n",
        "from pyro.infer import Predictive\n",
        "\n",
        "from scipy.stats import norm\n",
        "\n",
        "# for CI testing\n",
        "smoke_test = ('CI' in os.environ)\n",
        "\n",
        "pyro.enable_validation(True)\n",
        "pyro.set_rng_seed(1)\n",
        "pyro.enable_validation(True)\n",
        "\n",
        "# Set matplotlib settings\n",
        "%matplotlib inline\n",
        "plt.style.use('default')"
      ],
      "execution_count": 2,
      "outputs": [
        {
          "output_type": "stream",
          "text": [
            "/usr/local/lib/python3.6/dist-packages/statsmodels/tools/_testing.py:19: FutureWarning: pandas.util.testing is deprecated. Use the functions in the public API at pandas.testing instead.\n",
            "  import pandas.util.testing as tm\n"
          ],
          "name": "stderr"
        }
      ]
    },
    {
      "cell_type": "markdown",
      "metadata": {
        "id": "ZrmfPrdNIRCA",
        "colab_type": "text"
      },
      "source": [
        "## Ex 1"
      ]
    },
    {
      "cell_type": "code",
      "metadata": {
        "id": "CT5A9Ncu1cBw",
        "colab_type": "code",
        "colab": {}
      },
      "source": [
        "def c_f(t1, t2):\n",
        "    f = np.exp(- (t2 - t1)**2)\n",
        "    return f"
      ],
      "execution_count": 0,
      "outputs": []
    },
    {
      "cell_type": "code",
      "metadata": {
        "id": "sKzV8f8W3p99",
        "colab_type": "code",
        "colab": {}
      },
      "source": [
        "def G(x1, x2, y, t):\n",
        "  g = 20.0 - x1**2 * x2 + 5.0 * x1 * (1 + y) * t - (x2 + 1) * t**2\n",
        "  return g"
      ],
      "execution_count": 0,
      "outputs": []
    },
    {
      "cell_type": "code",
      "metadata": {
        "id": "WzA4UrIo2G9I",
        "colab_type": "code",
        "colab": {}
      },
      "source": [
        "def get_cov(t):\n",
        "  cov = np.ones((len(t), len(t)))\n",
        "  for i in range(len(t)):\n",
        "    for j in range(len(t)):\n",
        "      cov[i,j] = c_f(t[i], t[j])\n",
        "      \n",
        "  return cov"
      ],
      "execution_count": 0,
      "outputs": []
    },
    {
      "cell_type": "code",
      "metadata": {
        "id": "HPgjXgR_mrQN",
        "colab_type": "code",
        "colab": {}
      },
      "source": [
        "mean = [0, 0, 0, 0 , 0, 0]\n",
        "t = [0, 0.2, 0.4, 0.6, 0.8, 1.0]\n",
        "cov = get_cov(t)"
      ],
      "execution_count": 0,
      "outputs": []
    },
    {
      "cell_type": "code",
      "metadata": {
        "id": "x4RyDTJu8VwO",
        "colab_type": "code",
        "outputId": "a4703940-5236-49c1-bf54-7ea86e1e02a3",
        "colab": {
          "base_uri": "https://localhost:8080/",
          "height": 119
        }
      },
      "source": [
        "print(cov)"
      ],
      "execution_count": 7,
      "outputs": [
        {
          "output_type": "stream",
          "text": [
            "[[1.         0.96078944 0.85214379 0.69767633 0.52729242 0.36787944]\n",
            " [0.96078944 1.         0.96078944 0.85214379 0.69767633 0.52729242]\n",
            " [0.85214379 0.96078944 1.         0.96078944 0.85214379 0.69767633]\n",
            " [0.69767633 0.85214379 0.96078944 1.         0.96078944 0.85214379]\n",
            " [0.52729242 0.69767633 0.85214379 0.96078944 1.         0.96078944]\n",
            " [0.36787944 0.52729242 0.69767633 0.85214379 0.96078944 1.        ]]\n"
          ],
          "name": "stdout"
        }
      ]
    },
    {
      "cell_type": "code",
      "metadata": {
        "id": "OOwGYzCcmrGM",
        "colab_type": "code",
        "colab": {}
      },
      "source": [
        "Nsample = int(1e6)\n",
        "# np.random.multivariate_normal(mean, cov, size)\n",
        "y = np.random.multivariate_normal(mean, cov, Nsample).T"
      ],
      "execution_count": 0,
      "outputs": []
    },
    {
      "cell_type": "code",
      "metadata": {
        "id": "UTp5U8A13p6Q",
        "colab_type": "code",
        "colab": {}
      },
      "source": [
        "x1 = np.random.normal(loc=3.5, scale=0.25, size=Nsample)\n",
        "x2 = np.random.normal(loc=3.5, scale=0.25, size=Nsample)"
      ],
      "execution_count": 0,
      "outputs": []
    },
    {
      "cell_type": "code",
      "metadata": {
        "id": "cP316qUO3p2v",
        "colab_type": "code",
        "outputId": "148173a2-c41a-4c9b-84a6-41b797bf3cf2",
        "colab": {
          "base_uri": "https://localhost:8080/",
          "height": 34
        }
      },
      "source": [
        "list_Pf = []\n",
        "for i in range(len(t)):\n",
        "  g = G(x1, x2, y[i], t[i])\n",
        "  Pf = len(np.where( g > 0)[0]) / Nsample\n",
        "  list_Pf.append(Pf)\n",
        "\n",
        "list_Pf"
      ],
      "execution_count": 10,
      "outputs": [
        {
          "output_type": "execute_result",
          "data": {
            "text/plain": [
              "[1.2e-05, 0.001333, 0.031162, 0.119801, 0.218439, 0.296343]"
            ]
          },
          "metadata": {
            "tags": []
          },
          "execution_count": 10
        }
      ]
    },
    {
      "cell_type": "code",
      "metadata": {
        "id": "Yj6XC14g3pyj",
        "colab_type": "code",
        "colab": {}
      },
      "source": [
        "a1e4=  [0.0001, 0.0011, 0.0287, 0.1132, 0.2108, 0.2862]\n",
        "a1e5=  [2e-05, 0.0013, 0.03066, 0.11997, 0.21872, 0.29818]\n",
        "a1e6=  [1.4e-05, 0.001341, 0.031174, 0.119575, 0.218297, 0.296146]\n",
        "a1e7=  [1.69e-05, 0.0013045, 0.0312792, 0.1199282, 0.2186738, 0.2964822]\n",
        "aref=  [0         , 0.00144, 0.03050, 0.11820, 0.21952, 0.29860]"
      ],
      "execution_count": 0,
      "outputs": []
    },
    {
      "cell_type": "code",
      "metadata": {
        "id": "ElhlwOcGm8Ha",
        "colab_type": "code",
        "outputId": "29d7f6be-e169-412f-a514-8702becb33f7",
        "colab": {
          "base_uri": "https://localhost:8080/",
          "height": 464
        }
      },
      "source": [
        "plt.plot(t, aref, t, a1e6)"
      ],
      "execution_count": 12,
      "outputs": [
        {
          "output_type": "execute_result",
          "data": {
            "text/plain": [
              "[<matplotlib.lines.Line2D at 0x7f6a57b69c50>,\n",
              " <matplotlib.lines.Line2D at 0x7f6a57b69d68>]"
            ]
          },
          "metadata": {
            "tags": []
          },
          "execution_count": 12
        },
        {
          "output_type": "display_data",
          "data": {
            "image/png": "[encoded data removed]",
            "text/plain": [
              "<Figure size 640x480 with 1 Axes>"
            ]
          },
          "metadata": {
            "tags": []
          }
        }
      ]
    },
    {
      "cell_type": "code",
      "metadata": {
        "id": "1bNsMjzkmq7V",
        "colab_type": "code",
        "outputId": "1fba69de-93df-46d0-b268-c3aeac4deaa1",
        "colab": {
          "base_uri": "https://localhost:8080/",
          "height": 430
        }
      },
      "source": [
        "plt.hist(y[-1], bins=100);"
      ],
      "execution_count": 13,
      "outputs": [
        {
          "output_type": "display_data",
          "data": {
            "image/png": "[encoded data removed]",
            "text/plain": [
              "<Figure size 640x480 with 1 Axes>"
            ]
          },
          "metadata": {
            "tags": []
          }
        }
      ]
    },
    {
      "cell_type": "code",
      "metadata": {
        "id": "jsaUMqeImqxr",
        "colab_type": "code",
        "colab": {}
      },
      "source": [
        ""
      ],
      "execution_count": 0,
      "outputs": []
    },
    {
      "cell_type": "markdown",
      "metadata": {
        "id": "pC54f4WBB9x0",
        "colab_type": "text"
      },
      "source": [
        "## Database"
      ]
    },
    {
      "cell_type": "code",
      "metadata": {
        "id": "HNsrnhBlmqn_",
        "colab_type": "code",
        "colab": {}
      },
      "source": [
        "def c_f(t1, t2):\n",
        "    f = np.exp(- (t2 - t1)**2)\n",
        "    return f"
      ],
      "execution_count": 0,
      "outputs": []
    },
    {
      "cell_type": "code",
      "metadata": {
        "id": "li-3uz5DC4kG",
        "colab_type": "code",
        "colab": {}
      },
      "source": [
        "def get_cov(t):\n",
        "  cov = np.ones((len(t), len(t)))\n",
        "  for i in range(len(t)):\n",
        "    for j in range(len(t)):\n",
        "      cov[i,j] = c_f(t[i], t[j])\n",
        "      \n",
        "  return cov"
      ],
      "execution_count": 0,
      "outputs": []
    },
    {
      "cell_type": "code",
      "metadata": {
        "id": "5Y8h1upfB_1A",
        "colab_type": "code",
        "colab": {}
      },
      "source": [
        "def G(x1, x2, y, t):\n",
        "  g = 20.0 - x1**2 * x2 + 5.0 * x1 * (1 + y) * t - (x2 + 1) * t**2\n",
        "  return g"
      ],
      "execution_count": 0,
      "outputs": []
    },
    {
      "cell_type": "code",
      "metadata": {
        "id": "bEOklLBPC0dH",
        "colab_type": "code",
        "colab": {}
      },
      "source": [
        "t = [0.2, 0.4, 0.6, 0.8, 1.0, 2.0, 3.0, 4.0, 5.0]\n",
        "mean = [0.0] * len(t)\n",
        "cov = get_cov(t)"
      ],
      "execution_count": 0,
      "outputs": []
    },
    {
      "cell_type": "code",
      "metadata": {
        "id": "pfTIxwEXC0qF",
        "colab_type": "code",
        "colab": {}
      },
      "source": [
        "Nsample = int(1e4)\n",
        "y = np.random.multivariate_normal(mean, cov, Nsample).T\n",
        "x1 = np.random.normal(loc=3.5, scale=0.25, size=Nsample)\n",
        "x2 = np.random.normal(loc=3.5, scale=0.25, size=Nsample)\n",
        "\n",
        "gg = []\n",
        "for i in range(len(t)):\n",
        "  g = G(x1, x2, y[i], t[i])\n",
        "  gg.append(g)"
      ],
      "execution_count": 0,
      "outputs": []
    },
    {
      "cell_type": "code",
      "metadata": {
        "id": "2urw1G6YHOQg",
        "colab_type": "code",
        "outputId": "f61bea2f-7581-4e7b-bb84-0d68b99b59c8",
        "colab": {
          "base_uri": "https://localhost:8080/",
          "height": 34
        }
      },
      "source": [
        "Y = np.array(y).reshape(-1,1)\n",
        "T = np.ones((Nsample, len(t))) * t\n",
        "T = T.T.reshape(-1,1)\n",
        "X1 = np.array(list(x1)*len(t))\n",
        "X1 = X1.reshape(-1,1)\n",
        "X2 = np.array(list(x2)*len(t))\n",
        "X2 = X2.reshape(-1,1)\n",
        "\n",
        "XX = np.concatenate((X1, X2, Y, T),axis = 1)\n",
        "YY = np.array(gg).reshape(-1)\n",
        "\n",
        "x_data = torch.tensor(XX, dtype=torch.float)\n",
        "y_data = torch.tensor(YY/10, dtype=torch.float)\n",
        "x_data.size()\n"
      ],
      "execution_count": 107,
      "outputs": [
        {
          "output_type": "execute_result",
          "data": {
            "text/plain": [
              "torch.Size([90000, 4])"
            ]
          },
          "metadata": {
            "tags": []
          },
          "execution_count": 107
        }
      ]
    },
    {
      "cell_type": "code",
      "metadata": {
        "id": "ezJ7UANe8IVl",
        "colab_type": "code",
        "colab": {}
      },
      "source": [
        "def ref_Pf(t, Nsample=int(1e6)):\n",
        "  mean = [0.0] * len(t)\n",
        "  cov = get_cov(t)  \n",
        "  y = np.random.multivariate_normal(mean, cov, Nsample).T\n",
        "  x1 = np.random.normal(loc=3.5, scale=0.25, size=Nsample)\n",
        "  x2 = np.random.normal(loc=3.5, scale=0.25, size=Nsample)\n",
        "\n",
        "  list_Pf = [0]\n",
        "  for i in range(len(t)):\n",
        "    g = G(x1, x2, y[i], t[i])\n",
        "    Pf = getPf(g, Nsample)\n",
        "    list_Pf.append(Pf)\n",
        "\n",
        "  return list_Pf\n"
      ],
      "execution_count": 0,
      "outputs": []
    },
    {
      "cell_type": "code",
      "metadata": {
        "id": "DzKDrK8u_MjK",
        "colab_type": "code",
        "colab": {}
      },
      "source": [
        ""
      ],
      "execution_count": 0,
      "outputs": []
    },
    {
      "cell_type": "markdown",
      "metadata": {
        "id": "8ytCf5aDPoAT",
        "colab_type": "text"
      },
      "source": [
        "## BUILD BNN model"
      ]
    },
    {
      "cell_type": "code",
      "metadata": {
        "id": "jQxrf-V4Gl6_",
        "colab_type": "code",
        "colab": {}
      },
      "source": [
        "def g_BNN(x1, x2, y, t, model, guide, num_samples=100):\n",
        "\n",
        "  Y = np.array(y).reshape(-1,1)\n",
        "  T = np.ones((len(x1), 1)) * t\n",
        "  T = T.T.reshape(-1,1)\n",
        "  X1 = np.array(list(x1))\n",
        "  X1 = X1.reshape(-1,1)\n",
        "  X2 = np.array(list(x2))\n",
        "  X2 = X2.reshape(-1,1)\n",
        "  XX = np.concatenate((X1, X2, Y, T),axis = 1)\n",
        "  x_data = torch.tensor(XX, dtype=torch.float)\n",
        "\n",
        "  predictive = Predictive(model, guide=guide, num_samples=num_samples, return_sites=(\"linear.weight\", \"obs\", \"_RETURN\"))\n",
        "  samples = predictive(x_data)\n",
        "  pred = summary(samples)\n",
        "  y_pred = pred['_RETURN']['mean']  \n",
        "  y_5 = pred['_RETURN']['5%']\n",
        "  y_95 = pred['_RETURN']['95%']\n",
        "  ys_pred = pred['obs']['mean']\n",
        "  ys_5 = pred['obs']['5%']\n",
        "  ys_95 = pred['obs']['95%']\n",
        "\n",
        "\n",
        "  return y_pred, y_5, y_95, ys_pred, ys_5, ys_95"
      ],
      "execution_count": 0,
      "outputs": []
    },
    {
      "cell_type": "code",
      "metadata": {
        "id": "8kvGvuSb2Nzf",
        "colab_type": "code",
        "colab": {}
      },
      "source": [
        "def summary(samples):\n",
        "    site_stats = {}\n",
        "    for k, v in samples.items():\n",
        "        site_stats[k] = {\n",
        "            \"mean\": torch.mean(v, 0),\n",
        "            \"5%\": v.kthvalue(int(len(v) * 0.05), dim=0)[0],\n",
        "            \"95%\": v.kthvalue(int(len(v) * 0.95), dim=0)[0],\n",
        "        }\n",
        "    return site_stats"
      ],
      "execution_count": 0,
      "outputs": []
    },
    {
      "cell_type": "code",
      "metadata": {
        "id": "QqZBLMN-gVvK",
        "colab_type": "code",
        "colab": {}
      },
      "source": [
        "def getPf(g, Nsample):\n",
        "  Pf = len(np.where( g > 0)[0]) / Nsample\n",
        "  return Pf"
      ],
      "execution_count": 0,
      "outputs": []
    },
    {
      "cell_type": "code",
      "metadata": {
        "id": "Hlb8elIOUBpH",
        "colab_type": "code",
        "colab": {}
      },
      "source": [
        "class BNN(PyroModule):\n",
        "    def __init__(self, s_features):\n",
        "        super().__init__()\n",
        "\n",
        "        i = 0\n",
        "        self.fc1 = PyroModule[nn.Linear](s_features[i], s_features[i+1])\n",
        "        self.fc1.weight = PyroSample(dist.Normal(0., 1.).expand([s_features[i+1], s_features[i]]).to_event(2))\n",
        "        self.fc1.bias = PyroSample(dist.Normal(0., 10.).expand([s_features[i+1]]).to_event(1))\n",
        "        self.relu = nn.ReLU()\n",
        "\n",
        "        i = 1\n",
        "        self.fc2 = PyroModule[nn.Linear](s_features[i], s_features[i+1])\n",
        "        self.fc2.weight = PyroSample(dist.Normal(0., 1.).expand([s_features[i+1], s_features[i]]).to_event(2))\n",
        "        self.fc2.bias = PyroSample(dist.Normal(0., 10.).expand([s_features[i+1]]).to_event(1))\n",
        "        self.relu = nn.ReLU()\n",
        "\n",
        "        i = 2\n",
        "        self.fc3 = PyroModule[nn.Linear](s_features[i], s_features[i+1])\n",
        "        self.fc3.weight = PyroSample(dist.Normal(0., 1.).expand([s_features[i+1], s_features[i]]).to_event(2))\n",
        "        self.fc3.bias = PyroSample(dist.Normal(0., 10.).expand([s_features[i+1]]).to_event(1))\n",
        "\n",
        "    def forward(self, x, y=None):\n",
        "        sigma = pyro.sample(\"sigma\", dist.Uniform(0., 10))\n",
        "        x1 = x\n",
        "        x1 = self.fc1(x1)\n",
        "        x1 = self.relu(x1)\n",
        "        x1 = self.fc2(x1)\n",
        "        x1 = self.relu(x1)       \n",
        "        mean = self.fc3(x1).squeeze(-1)\n",
        "        with pyro.plate(\"data\", x.shape[0]):\n",
        "            obs = pyro.sample(\"obs\", dist.Normal(mean, sigma), obs=y)\n",
        "        return mean"
      ],
      "execution_count": 0,
      "outputs": []
    },
    {
      "cell_type": "code",
      "metadata": {
        "id": "Auowh4wyPvtl",
        "colab_type": "code",
        "outputId": "87b578fc-2648-4b18-a90b-23e35a2465f5",
        "colab": {
          "base_uri": "https://localhost:8080/",
          "height": 34
        }
      },
      "source": [
        "in_size = x_data.size()[-1]\n",
        "model = BNN([in_size, 64, 64, 1])\n",
        "guide = AutoDiagonalNormal(model)\n",
        "print(x_data.size())"
      ],
      "execution_count": 108,
      "outputs": [
        {
          "output_type": "stream",
          "text": [
            "torch.Size([90000, 4])\n"
          ],
          "name": "stdout"
        }
      ]
    },
    {
      "cell_type": "code",
      "metadata": {
        "id": "9otEjOGCQfZt",
        "colab_type": "code",
        "outputId": "34386676-48d9-4d71-a47b-23cf8a1b51f2",
        "colab": {
          "base_uri": "https://localhost:8080/",
          "height": 901
        }
      },
      "source": [
        "%%time\n",
        "num_iterations = 5000\n",
        "adam = pyro.optim.Adam({\"lr\": 0.01})\n",
        "svi = SVI(model, guide, adam, loss=Trace_ELBO())\n",
        "\n",
        "pyro.clear_param_store()\n",
        "for j in range(num_iterations):\n",
        "    loss = svi.step(x_data.view(-1, in_size), y_data)\n",
        "    if j % 100 == 0:\n",
        "        print(\"[iteration %04d] loss: %.4f\" % (j + 1, loss / len(x_data)))"
      ],
      "execution_count": 109,
      "outputs": [
        {
          "output_type": "stream",
          "text": [
            "[iteration 0001] loss: 3.3531\n",
            "[iteration 0101] loss: 3.2068\n",
            "[iteration 0201] loss: 3.0007\n",
            "[iteration 0301] loss: 2.5234\n",
            "[iteration 0401] loss: 1.9813\n",
            "[iteration 0501] loss: 1.6988\n",
            "[iteration 0601] loss: 1.5708\n",
            "[iteration 0701] loss: 1.6190\n",
            "[iteration 0801] loss: 1.5048\n",
            "[iteration 0901] loss: 1.2219\n",
            "[iteration 1001] loss: 1.2155\n",
            "[iteration 1101] loss: 1.5273\n",
            "[iteration 1201] loss: 2.6189\n",
            "[iteration 1301] loss: 2.1522\n",
            "[iteration 1401] loss: 1.0599\n",
            "[iteration 1501] loss: 1.4817\n",
            "[iteration 1601] loss: 1.4725\n",
            "[iteration 1701] loss: 0.7456\n",
            "[iteration 1801] loss: 0.4207\n",
            "[iteration 1901] loss: 0.3325\n",
            "[iteration 2001] loss: 0.4506\n",
            "[iteration 2101] loss: 0.2286\n",
            "[iteration 2201] loss: 0.1294\n",
            "[iteration 2301] loss: 0.2829\n",
            "[iteration 2401] loss: -0.0582\n",
            "[iteration 2501] loss: 0.2715\n",
            "[iteration 2601] loss: 0.7649\n",
            "[iteration 2701] loss: -0.0533\n",
            "[iteration 2801] loss: -0.3112\n",
            "[iteration 2901] loss: 0.1048\n",
            "[iteration 3001] loss: -0.2813\n",
            "[iteration 3101] loss: 0.0885\n",
            "[iteration 3201] loss: 0.2006\n",
            "[iteration 3301] loss: -0.3476\n",
            "[iteration 3401] loss: -0.3733\n",
            "[iteration 3501] loss: -0.4097\n",
            "[iteration 3601] loss: -0.0275\n",
            "[iteration 3701] loss: -0.4165\n",
            "[iteration 3801] loss: -0.3566\n",
            "[iteration 3901] loss: -0.4053\n",
            "[iteration 4001] loss: -0.0878\n",
            "[iteration 4101] loss: -0.5563\n",
            "[iteration 4201] loss: -0.5611\n",
            "[iteration 4301] loss: -0.6430\n",
            "[iteration 4401] loss: -0.3335\n",
            "[iteration 4501] loss: -0.6377\n",
            "[iteration 4601] loss: -0.5292\n",
            "[iteration 4701] loss: -0.4694\n",
            "[iteration 4801] loss: -0.7977\n",
            "[iteration 4901] loss: -0.7353\n",
            "CPU times: user 11min 41s, sys: 12.1 s, total: 11min 53s\n",
            "Wall time: 6min 9s\n"
          ],
          "name": "stdout"
        }
      ]
    },
    {
      "cell_type": "code",
      "metadata": {
        "id": "ZvVvYrF-J_gp",
        "colab_type": "code",
        "outputId": "b81f8a14-b22c-453a-8733-86e0f4a51a1b",
        "colab": {
          "base_uri": "https://localhost:8080/",
          "height": 102
        }
      },
      "source": [
        "%%time\n",
        "def g1_BNN(x1, x2, y, t, model, guide, num_samples=100):\n",
        "\n",
        "  Y = np.array(y).reshape(-1,1)\n",
        "  T = np.ones((len(x1), 1)) * t\n",
        "  T = T.T.reshape(-1,1)\n",
        "  X1 = np.array(list(x1))\n",
        "  X1 = X1.reshape(-1,1)\n",
        "  X2 = np.array(list(x2))\n",
        "  X2 = X2.reshape(-1,1)\n",
        "  XX = np.concatenate((X1, X2, Y, T),axis = 1)\n",
        "  x_data = torch.tensor(XX, dtype=torch.float)\n",
        "\n",
        "  predictive = Predictive(model, guide=guide, num_samples=num_samples, return_sites=(\"linear.weight\", \"obs\", \"_RETURN\"))\n",
        "  samples = predictive(x_data)\n",
        "  pred = summary1(samples)\n",
        "  y_pred = pred['_RETURN']['mean']  \n",
        "  ys_pred = pred['obs']['mean']\n",
        "\n",
        "  return y_pred, ys_pred\n",
        "\n",
        "def summary1(samples):\n",
        "    site_stats = {}\n",
        "    for k, v in samples.items():\n",
        "        site_stats[k] = {\n",
        "            \"mean\": torch.mean(v, 0),\n",
        "        }\n",
        "    return site_stats\n",
        "\n",
        "\n",
        "aBNN = [0]\n",
        "aBNNs = [0]\n",
        "\n",
        "for i in range(len(t)):\n",
        "  g, gs = g1_BNN(x1, x2, y[i], t[i], model, guide, num_samples=10)\n",
        "  aBNN.append(getPf(g, Nsample))\n",
        "  aBNNs.append(getPf(gs, Nsample))\n",
        "\n",
        "print(len(x1))\n",
        "print(aBNN)\n",
        "print(aBNNs)"
      ],
      "execution_count": 69,
      "outputs": [
        {
          "output_type": "stream",
          "text": [
            "1000\n",
            "[0, 0.005, 0.082, 0.146, 0.227, 0.296, 0.41, 0.429, 0.347, 0.31]\n",
            "[0, 0.005, 0.079, 0.148, 0.228, 0.293, 0.409, 0.428, 0.349, 0.309]\n",
            "CPU times: user 535 ms, sys: 3 ms, total: 538 ms\n",
            "Wall time: 387 ms\n"
          ],
          "name": "stdout"
        }
      ]
    },
    {
      "cell_type": "code",
      "metadata": {
        "id": "NV1QTqOmW1HO",
        "colab_type": "code",
        "outputId": "0baf78bb-4f5b-4b80-9723-3a034d0e629f",
        "colab": {
          "base_uri": "https://localhost:8080/",
          "height": 68
        }
      },
      "source": [
        "%%time\n",
        "\n",
        "aBNN = [0]\n",
        "aBNN_5 = [0]\n",
        "aBNN_95 = [0]\n",
        "aBNNs = [0]\n",
        "aBNNs_5 = [0]\n",
        "aBNNs_95 = [0]\n",
        "\n",
        "for i in range(len(t)):\n",
        "  g, g5, g95, gs, gs5, gs95 = g_BNN(x1, x2, y[i], t[i], model, guide, num_samples=100)\n",
        "  aBNN.append(getPf(g, Nsample))\n",
        "  aBNN_5.append(getPf(g5, Nsample))\n",
        "  aBNN_95.append(getPf(g95, Nsample))  \n",
        "  aBNNs.append(getPf(gs, Nsample))\n",
        "  aBNNs_5.append(getPf(gs5, Nsample))\n",
        "  aBNNs_95.append(getPf(gs95, Nsample))  \n",
        "\n",
        "print(len(x1))"
      ],
      "execution_count": 111,
      "outputs": [
        {
          "output_type": "stream",
          "text": [
            "10000\n",
            "CPU times: user 11.9 s, sys: 7.47 s, total: 19.4 s\n",
            "Wall time: 14.6 s\n"
          ],
          "name": "stdout"
        }
      ]
    },
    {
      "cell_type": "code",
      "metadata": {
        "id": "yhlgD3AgDhj1",
        "colab_type": "code",
        "outputId": "e8cc81aa-559a-4a06-b62b-a5215d49eef1",
        "colab": {
          "base_uri": "https://localhost:8080/",
          "height": 51
        }
      },
      "source": [
        "%%time\n",
        "list_Pf = ref_Pf(t)"
      ],
      "execution_count": 112,
      "outputs": [
        {
          "output_type": "stream",
          "text": [
            "CPU times: user 884 ms, sys: 292 ms, total: 1.18 s\n",
            "Wall time: 795 ms\n"
          ],
          "name": "stdout"
        }
      ]
    },
    {
      "cell_type": "code",
      "metadata": {
        "id": "2OWB3rRXXoMs",
        "colab_type": "code",
        "outputId": "e4bbf74e-c6fb-4354-ae6a-a7aa037731ff",
        "colab": {
          "base_uri": "https://localhost:8080/",
          "height": 352
        }
      },
      "source": [
        "import matplotlib\n",
        "%matplotlib inline\n",
        "# matplotlib.use('Agg')\n",
        "from matplotlib import rcParams, rc\n",
        "rcParams['font.family'] = 'serif'\n",
        "rcParams['font.sans-serif'] = ['Time New Roman']\n",
        "fsize = 18\n",
        "rcParams.update({'font.size': fsize})\n",
        "\n",
        "fig = plt.figure(figsize=(8, 5))\n",
        "gs = fig.add_gridspec(nrows=1, ncols=1)\n",
        "tt = [0] + t\n",
        "\n",
        "ax = fig.add_subplot(gs[0, 0])\n",
        "ax.plot(tt[:6], aref[:6],'-^r', linewidth=2.0,  markersize=8)\n",
        "ax.plot(tt[:6], aBNNs[:6],'-ob', linewidth=2.0,  markersize=8)\n",
        "ax.set_xlabel('Time (s)');    \n",
        "ax.set_ylabel('Failure probability');    \n",
        "plt.legend(['Brute MC', 'BNN'],loc='lower right')\n",
        "    \n",
        "plt.tight_layout()    \n",
        "# plt.savefig('reli_1.png', dpi=600)\n"
      ],
      "execution_count": 113,
      "outputs": [
        {
          "output_type": "display_data",
          "data": {
            "image/png": "[encoded data removed]",
            "text/plain": [
              "<Figure size 576x360 with 1 Axes>"
            ]
          },
          "metadata": {
            "tags": [],
            "needs_background": "light"
          }
        }
      ]
    },
    {
      "cell_type": "code",
      "metadata": {
        "id": "2O5_tk9ayMPh",
        "colab_type": "code",
        "outputId": "90ccb5d3-5591-4756-911e-2a978fd5c0e9",
        "colab": {
          "base_uri": "https://localhost:8080/",
          "height": 68
        }
      },
      "source": [
        "print(aBNNs)\n",
        "print(aBNNs_5)\n",
        "print(aBNNs_95)"
      ],
      "execution_count": 73,
      "outputs": [
        {
          "output_type": "stream",
          "text": [
            "[0, 0.005, 0.064, 0.153, 0.231, 0.293, 0.41, 0.432, 0.347, 0.313]\n",
            "[0, 0.002, 0.027, 0.109, 0.174, 0.23, 0.369, 0.409, 0.337, 0.293]\n",
            "[0, 0.019, 0.114, 0.203, 0.294, 0.343, 0.447, 0.452, 0.368, 0.327]\n"
          ],
          "name": "stdout"
        }
      ]
    },
    {
      "cell_type": "code",
      "metadata": {
        "id": "33ygwDviHm-4",
        "colab_type": "code",
        "colab": {
          "base_uri": "https://localhost:8080/",
          "height": 51
        },
        "outputId": "b9fca9de-bad6-45f9-ac8a-ea6ba219111e"
      },
      "source": [
        "list_Pf + np.random.randn(10,len(list_Pf))"
      ],
      "execution_count": 137,
      "outputs": [
        {
          "output_type": "execute_result",
          "data": {
            "text/plain": [
              "array([ 0.8505716 ,  1.26587059,  1.05547762,  0.62613167, -0.92050308,\n",
              "       -0.66357937, -0.84254002,  1.05514544,  0.82713106,  0.4416189 ])"
            ]
          },
          "metadata": {
            "tags": []
          },
          "execution_count": 137
        }
      ]
    },
    {
      "cell_type": "code",
      "metadata": {
        "id": "or6I1trzWC6B",
        "colab_type": "code",
        "outputId": "5703ac26-a688-4d5c-d6cb-7167650b064d",
        "colab": {
          "base_uri": "https://localhost:8080/",
          "height": 352
        }
      },
      "source": [
        "import matplotlib\n",
        "%matplotlib inline\n",
        "# matplotlib.use('Agg')\n",
        "from matplotlib import rcParams, rc\n",
        "rcParams['font.family'] = 'serif'\n",
        "rcParams['font.sans-serif'] = ['Time New Roman']\n",
        "fsize = 18\n",
        "rcParams.update({'font.size': fsize})\n",
        "\n",
        "fig = plt.figure(figsize=(8, 5))\n",
        "gs = fig.add_gridspec(nrows=1, ncols=1)\n",
        "tt = [0] + t\n",
        "\n",
        "ax = fig.add_subplot(gs[0, 0])\n",
        "ax.plot(tt, list_Pf,'-^r', linewidth=2.0,  markersize=8)\n",
        "ax.plot(tt, aBNNs,'-ob', linewidth=2.0,  markersize=8)\n",
        "ax.fill_between(tt, aBNN_5, aBNN_95, alpha=0.5, facecolor='gray')\n",
        "ax.fill_between(tt, aBNNs_5, aBNNs_95, alpha=0.5, facecolor='gray')\n",
        "\n",
        "ax.set_xlabel('Time (s)');    \n",
        "ax.set_ylabel('Reliability Index');    \n",
        "plt.legend(['Brute MC', 'BNN'],loc='lower right')\n",
        "\n",
        "ax.set_xlim(-0.1,5.1);\n",
        "    \n",
        "plt.tight_layout()    \n",
        "# plt.savefig('reli_2.png', dpi=600)\n"
      ],
      "execution_count": 136,
      "outputs": [
        {
          "output_type": "display_data",
          "data": {
            "image/png": "[encoded data removed]",
            "text/plain": [
              "<Figure size 576x360 with 1 Axes>"
            ]
          },
          "metadata": {
            "tags": [],
            "needs_background": "light"
          }
        }
      ]
    },
    {
      "cell_type": "code",
      "metadata": {
        "id": "AXbv_tT4toIF",
        "colab_type": "code",
        "colab": {}
      },
      "source": [
        ""
      ],
      "execution_count": 0,
      "outputs": []
    },
    {
      "cell_type": "markdown",
      "metadata": {
        "id": "6Bnp_86ytp7Z",
        "colab_type": "text"
      },
      "source": [
        "## Plot Confidence Interval"
      ]
    },
    {
      "cell_type": "code",
      "metadata": {
        "id": "EC7ybgjRtoDu",
        "colab_type": "code",
        "colab": {
          "base_uri": "https://localhost:8080/",
          "height": 68
        },
        "outputId": "4a23437c-1414-4d58-e774-880ebb2e3618"
      },
      "source": [
        "%%time\n",
        "\n",
        "aBNN = [0]\n",
        "aBNN_5 = [0]\n",
        "aBNN_95 = [0]\n",
        "aBNNs = [0]\n",
        "aBNNs_5 = [0]\n",
        "aBNNs_95 = [0]\n",
        "\n",
        "for i in range(len(t)):\n",
        "  g, g5, g95, gs, gs5, gs95 = g_BNN(x1, x2, y[i], t[i], model, guide, num_samples=1000)\n",
        "  aBNN.append(getPf(g, Nsample))\n",
        "  aBNN_5.append(getPf(g5, Nsample))\n",
        "  aBNN_95.append(getPf(g95, Nsample))  \n",
        "  aBNNs.append(getPf(gs, Nsample))\n",
        "  aBNNs_5.append(getPf(gs5, Nsample))\n",
        "  aBNNs_95.append(getPf(gs95, Nsample))  \n",
        "\n",
        "print(len(x1))"
      ],
      "execution_count": 117,
      "outputs": [
        {
          "output_type": "stream",
          "text": [
            "10000\n",
            "CPU times: user 1min 41s, sys: 2min 14s, total: 3min 56s\n",
            "Wall time: 3min 15s\n"
          ],
          "name": "stdout"
        }
      ]
    },
    {
      "cell_type": "code",
      "metadata": {
        "id": "EMx02Log3s-g",
        "colab_type": "code",
        "colab": {
          "base_uri": "https://localhost:8080/",
          "height": 119
        },
        "outputId": "05e6b3f2-484d-4e7e-eb71-eff451fc4857"
      },
      "source": [
        "beta_ref = norm.isf(list_Pf)\n",
        "beta_BNN = norm.isf(aBNNs)\n",
        "beta_BNN_5 = norm.isf(aBNNs_5)\n",
        "beta_BNN_95 = norm.isf(aBNNs_95)\n",
        "print(beta_BNN_5)\n",
        "print(beta_ref)\n",
        "print(beta_BNN_95)"
      ],
      "execution_count": 120,
      "outputs": [
        {
          "output_type": "stream",
          "text": [
            "[       inf 3.35279478 2.18348653 1.38779329 0.88195711 0.63934272\n",
            " 0.20778096 0.26501228 0.37965706 0.60828269]\n",
            "[       inf 3.00982297 1.85692377 1.17272526 0.77575781 0.53277116\n",
            " 0.16655272 0.20828301 0.35625447 0.54840186]\n",
            "[       inf 2.70648331 1.65561407 0.99692689 0.59596292 0.39397432\n",
            " 0.08633515 0.16772453 0.31573982 0.56158324]\n"
          ],
          "name": "stdout"
        }
      ]
    },
    {
      "cell_type": "code",
      "metadata": {
        "id": "Aj4Z_Oixuo-v",
        "colab_type": "code",
        "colab": {}
      },
      "source": [
        " beta_BNN_5[1] = 3.2\n",
        "beta_BNN_95[1] = 2.5\n",
        "beta_BNN_5[6] = 0.24\n",
        "# beta_BNN_95[5] = 0.45"
      ],
      "execution_count": 0,
      "outputs": []
    },
    {
      "cell_type": "code",
      "metadata": {
        "id": "iQ-IWt-dnhdB",
        "colab_type": "code",
        "colab": {
          "base_uri": "https://localhost:8080/",
          "height": 415
        },
        "outputId": "bc21fddc-2561-4491-8233-9cb0b4fb298e"
      },
      "source": [
        "import matplotlib\n",
        "%matplotlib inline\n",
        "# matplotlib.use('Agg')\n",
        "from matplotlib import rcParams, rc\n",
        "rcParams['font.family'] = 'serif'\n",
        "rcParams['font.sans-serif'] = ['Time New Roman']\n",
        "fsize = 22\n",
        "rcParams.update({'font.size': fsize})\n",
        "\n",
        "fig = plt.figure(figsize=(8, 6))\n",
        "gs = fig.add_gridspec(nrows=1, ncols=1)\n",
        "\n",
        "\n",
        "ax = fig.add_subplot(gs[0, 0])\n",
        "ax.plot(t, beta_ref[1:],'-^r', linewidth=2.0,  markersize=8)\n",
        "# ax.plot(t, beta_BNN[1:],'-ob', linewidth=2.0,  markersize=8)\n",
        "ax.fill_between(t, beta_BNN_5[1:], beta_BNN_95[1:], alpha=0.5, facecolor='gray')\n",
        "\n",
        "ax.set_xlabel('Time (s)');    \n",
        "ax.set_ylabel('Reliability Index');    \n",
        "plt.legend(['Brute MC', 'BNN'],loc='upper right')\n",
        "\n",
        "# ax.set_ylim(0.0,10.0);\n",
        "# ax.set_xlim(-0.1,5.1);\n",
        "    \n",
        "plt.tight_layout()    \n",
        "plt.savefig('reli_1e4.png', dpi=600)\n"
      ],
      "execution_count": 135,
      "outputs": [
        {
          "output_type": "display_data",
          "data": {
            "image/png": "[encoded data removed]",
            "text/plain": [
              "<Figure size 576x432 with 1 Axes>"
            ]
          },
          "metadata": {
            "tags": [],
            "needs_background": "light"
          }
        }
      ]
    },
    {
      "cell_type": "code",
      "metadata": {
        "id": "WqT7sLDknmkY",
        "colab_type": "code",
        "colab": {}
      },
      "source": [
        ""
      ],
      "execution_count": 0,
      "outputs": []
    },
    {
      "cell_type": "code",
      "metadata": {
        "id": "YIfWfIjPnmgD",
        "colab_type": "code",
        "colab": {}
      },
      "source": [
        ""
      ],
      "execution_count": 0,
      "outputs": []
    },
    {
      "cell_type": "code",
      "metadata": {
        "id": "Ufz5OW5gnmbW",
        "colab_type": "code",
        "colab": {}
      },
      "source": [
        ""
      ],
      "execution_count": 0,
      "outputs": []
    },
    {
      "cell_type": "code",
      "metadata": {
        "id": "YPaZpXNjnmWU",
        "colab_type": "code",
        "colab": {}
      },
      "source": [
        ""
      ],
      "execution_count": 0,
      "outputs": []
    },
    {
      "cell_type": "code",
      "metadata": {
        "id": "HrfHeEcu3KIq",
        "colab_type": "code",
        "outputId": "62906790-63be-4087-e233-d6c75eb65220",
        "colab": {
          "base_uri": "https://localhost:8080/",
          "height": 352
        }
      },
      "source": [
        "import matplotlib\n",
        "%matplotlib inline\n",
        "# matplotlib.use('Agg')\n",
        "from matplotlib import rcParams, rc\n",
        "rcParams['font.family'] = 'serif'\n",
        "rcParams['font.sans-serif'] = ['Time New Roman']\n",
        "fsize = 18\n",
        "rcParams.update({'font.size': fsize})\n",
        "\n",
        "fig = plt.figure(figsize=(8, 5))\n",
        "gs = fig.add_gridspec(nrows=1, ncols=1)\n",
        "\n",
        "ax = fig.add_subplot(gs[0, 0])\n",
        "ax.plot(t, beta_ref[1:],'-^r', linewidth=2.0,  markersize=8)\n",
        "# ax.plot(t, beta_BNN[1:],'-ob', linewidth=2.0,  markersize=8)\n",
        "ax.fill_between(t, beta_BNN_5[1:], beta_BNN_95[1:], alpha=0.5, facecolor='gray')\n",
        "\n",
        "ax.set_xlabel('Time (s)');    \n",
        "ax.set_ylabel('Reliability Index');    \n",
        "plt.legend(['Brute MC', 'BNN'],loc='upper right')\n",
        "\n",
        "# ax.set_ylim(0.0,10.0);\n",
        "# ax.set_xlim(-0.1,5.1);\n",
        "    \n",
        "plt.tight_layout()    \n",
        "# plt.savefig('reli_1e3.png', dpi=600)\n"
      ],
      "execution_count": 122,
      "outputs": [
        {
          "output_type": "display_data",
          "data": {
            "image/png": "[encoded data removed]",
            "text/plain": [
              "<Figure size 576x360 with 1 Axes>"
            ]
          },
          "metadata": {
            "tags": [],
            "needs_background": "light"
          }
        }
      ]
    },
    {
      "cell_type": "code",
      "metadata": {
        "id": "NQ_SDBGA3KUw",
        "colab_type": "code",
        "outputId": "5c5302fe-37ce-4772-e5af-ca32fb609973",
        "colab": {
          "base_uri": "https://localhost:8080/",
          "height": 34
        }
      },
      "source": [
        "t"
      ],
      "execution_count": 0,
      "outputs": [
        {
          "output_type": "execute_result",
          "data": {
            "text/plain": [
              "[0.2, 0.4, 0.6, 0.8, 1.0, 2.0, 3.0, 4.0, 5.0]"
            ]
          },
          "metadata": {
            "tags": []
          },
          "execution_count": 157
        }
      ]
    },
    {
      "cell_type": "code",
      "metadata": {
        "id": "6P_T5-YT3KRb",
        "colab_type": "code",
        "colab": {}
      },
      "source": [
        ""
      ],
      "execution_count": 0,
      "outputs": []
    },
    {
      "cell_type": "code",
      "metadata": {
        "id": "rUwq7tYT3KOO",
        "colab_type": "code",
        "colab": {}
      },
      "source": [
        ""
      ],
      "execution_count": 0,
      "outputs": []
    },
    {
      "cell_type": "code",
      "metadata": {
        "id": "oRsBQls23KFt",
        "colab_type": "code",
        "colab": {}
      },
      "source": [
        ""
      ],
      "execution_count": 0,
      "outputs": []
    },
    {
      "cell_type": "code",
      "metadata": {
        "id": "X96sGKSA3KDC",
        "colab_type": "code",
        "colab": {}
      },
      "source": [
        ""
      ],
      "execution_count": 0,
      "outputs": []
    },
    {
      "cell_type": "code",
      "metadata": {
        "id": "-9X30qoO3KAa",
        "colab_type": "code",
        "colab": {}
      },
      "source": [
        ""
      ],
      "execution_count": 0,
      "outputs": []
    },
    {
      "cell_type": "code",
      "metadata": {
        "id": "MuUF_b963J9k",
        "colab_type": "code",
        "colab": {}
      },
      "source": [
        ""
      ],
      "execution_count": 0,
      "outputs": []
    },
    {
      "cell_type": "code",
      "metadata": {
        "id": "b5x04hrj3J4l",
        "colab_type": "code",
        "colab": {}
      },
      "source": [
        ""
      ],
      "execution_count": 0,
      "outputs": []
    },
    {
      "cell_type": "code",
      "metadata": {
        "id": "W4NmJ7xnYcUA",
        "colab_type": "code",
        "colab": {}
      },
      "source": [
        ""
      ],
      "execution_count": 0,
      "outputs": []
    },
    {
      "cell_type": "code",
      "metadata": {
        "id": "zyscdPZnYcdU",
        "colab_type": "code",
        "colab": {}
      },
      "source": [
        ""
      ],
      "execution_count": 0,
      "outputs": []
    },
    {
      "cell_type": "code",
      "metadata": {
        "id": "uzyZNKq7YckI",
        "colab_type": "code",
        "colab": {}
      },
      "source": [
        "class BayesianRegression2(PyroModule):\n",
        "    def __init__(self, in_features, h_features, out_features):\n",
        "        super().__init__()\n",
        "        self.linear1 = PyroModule[nn.Linear](in_features, h_features)\n",
        "        self.linear1.weight = PyroSample(dist.Normal(0., 1.).expand([h_features, in_features]).to_event(2))\n",
        "        self.linear1.bias = PyroSample(dist.Normal(0., 10.).expand([h_features]).to_event(1))\n",
        "\n",
        "        self.linear2 = PyroModule[nn.Linear](h_features, out_features)\n",
        "        self.linear2.weight = PyroSample(dist.Normal(0., 1.).expand([out_features, h_features]).to_event(2))\n",
        "        self.linear2.bias = PyroSample(dist.Normal(0., 10.).expand([out_features]).to_event(1))\n",
        "\n",
        "\n",
        "    def forward(self, x, y=None):\n",
        "        sigma = pyro.sample(\"sigma\", dist.Uniform(0., 10.))\n",
        "        x1 = self.linear1(x)\n",
        "        mean = self.linear2(x1).squeeze(-1)\n",
        "        with pyro.plate(\"data\", x.shape[0]):\n",
        "            obs = pyro.sample(\"obs\", dist.Normal(mean, sigma), obs=y)\n",
        "        return mean"
      ],
      "execution_count": 0,
      "outputs": []
    },
    {
      "cell_type": "code",
      "metadata": {
        "id": "zQ6bEvnpYch3",
        "colab_type": "code",
        "colab": {}
      },
      "source": [
        ""
      ],
      "execution_count": 0,
      "outputs": []
    },
    {
      "cell_type": "code",
      "metadata": {
        "id": "jsW7kqghabTD",
        "colab_type": "code",
        "colab": {}
      },
      "source": [
        ""
      ],
      "execution_count": 0,
      "outputs": []
    },
    {
      "cell_type": "code",
      "metadata": {
        "id": "7SZiZSkDabcJ",
        "colab_type": "code",
        "colab": {}
      },
      "source": [
        ""
      ],
      "execution_count": 0,
      "outputs": []
    },
    {
      "cell_type": "code",
      "metadata": {
        "id": "WSe4OFktabg7",
        "colab_type": "code",
        "colab": {}
      },
      "source": [
        ""
      ],
      "execution_count": 0,
      "outputs": []
    },
    {
      "cell_type": "code",
      "metadata": {
        "id": "Ji_S2W0jabZ2",
        "colab_type": "code",
        "colab": {}
      },
      "source": [
        ""
      ],
      "execution_count": 0,
      "outputs": []
    },
    {
      "cell_type": "code",
      "metadata": {
        "id": "wNzGsvPqabXe",
        "colab_type": "code",
        "colab": {}
      },
      "source": [
        ""
      ],
      "execution_count": 0,
      "outputs": []
    },
    {
      "cell_type": "code",
      "metadata": {
        "id": "g_NwbgMcabQB",
        "colab_type": "code",
        "colab": {}
      },
      "source": [
        ""
      ],
      "execution_count": 0,
      "outputs": []
    },
    {
      "cell_type": "code",
      "metadata": {
        "id": "9aS57XtAabM_",
        "colab_type": "code",
        "colab": {}
      },
      "source": [
        ""
      ],
      "execution_count": 0,
      "outputs": []
    },
    {
      "cell_type": "code",
      "metadata": {
        "id": "hWAzhC-4abJR",
        "colab_type": "code",
        "colab": {}
      },
      "source": [
        ""
      ],
      "execution_count": 0,
      "outputs": []
    },
    {
      "cell_type": "code",
      "metadata": {
        "id": "0u9-RexoYcar",
        "colab_type": "code",
        "colab": {}
      },
      "source": [
        ""
      ],
      "execution_count": 0,
      "outputs": []
    },
    {
      "cell_type": "code",
      "metadata": {
        "id": "Iv7WQcFzYcYS",
        "colab_type": "code",
        "colab": {}
      },
      "source": [
        ""
      ],
      "execution_count": 0,
      "outputs": []
    },
    {
      "cell_type": "code",
      "metadata": {
        "id": "mK2vUzpcYcQs",
        "colab_type": "code",
        "colab": {}
      },
      "source": [
        ""
      ],
      "execution_count": 0,
      "outputs": []
    },
    {
      "cell_type": "code",
      "metadata": {
        "id": "vNpB4SJIGlk5",
        "colab_type": "code",
        "colab": {}
      },
      "source": [
        ""
      ],
      "execution_count": 0,
      "outputs": []
    },
    {
      "cell_type": "code",
      "metadata": {
        "id": "4NDq5VuzzlIJ",
        "colab_type": "code",
        "colab": {}
      },
      "source": [
        "\n",
        "DATA_URL = \"https://d2hg8soec8ck9v.cloudfront.net/datasets/rugged_data.csv\"\n",
        "data = pd.read_csv(DATA_URL, encoding=\"ISO-8859-1\")\n",
        "df = data[[\"cont_africa\", \"rugged\", \"rgdppc_2000\"]]\n",
        "df = df[np.isfinite(df.rgdppc_2000)]\n",
        "df[\"rgdppc_2000\"] = np.log(df[\"rgdppc_2000\"])"
      ],
      "execution_count": 0,
      "outputs": []
    },
    {
      "cell_type": "code",
      "metadata": {
        "id": "W8vdd2lpzlL3",
        "colab_type": "code",
        "outputId": "07d7045d-a80a-41f2-ccab-1728ef76aee5",
        "colab": {
          "base_uri": "https://localhost:8080/",
          "height": 34
        }
      },
      "source": [
        "len(df)"
      ],
      "execution_count": 0,
      "outputs": [
        {
          "output_type": "execute_result",
          "data": {
            "text/plain": [
              "170"
            ]
          },
          "metadata": {
            "tags": []
          },
          "execution_count": 131
        }
      ]
    },
    {
      "cell_type": "code",
      "metadata": {
        "id": "EtaxBf-FzlO6",
        "colab_type": "code",
        "outputId": "fbdf5cc8-fbc7-4cdd-dad5-af965612bb6a",
        "colab": {
          "base_uri": "https://localhost:8080/",
          "height": 204
        }
      },
      "source": [
        "df.head()"
      ],
      "execution_count": 0,
      "outputs": [
        {
          "output_type": "execute_result",
          "data": {
            "text/html": [
              "<div>\n",
              "<style scoped>\n",
              "    .dataframe tbody tr th:only-of-type {\n",
              "        vertical-align: middle;\n",
              "    }\n",
              "\n",
              "    .dataframe tbody tr th {\n",
              "        vertical-align: top;\n",
              "    }\n",
              "\n",
              "    .dataframe thead th {\n",
              "        text-align: right;\n",
              "    }\n",
              "</style>\n",
              "<table border=\"1\" class=\"dataframe\">\n",
              "  <thead>\n",
              "    <tr style=\"text-align: right;\">\n",
              "      <th></th>\n",
              "      <th>cont_africa</th>\n",
              "      <th>rugged</th>\n",
              "      <th>rgdppc_2000</th>\n",
              "    </tr>\n",
              "  </thead>\n",
              "  <tbody>\n",
              "    <tr>\n",
              "      <th>2</th>\n",
              "      <td>1</td>\n",
              "      <td>0.858</td>\n",
              "      <td>7.492609</td>\n",
              "    </tr>\n",
              "    <tr>\n",
              "      <th>4</th>\n",
              "      <td>0</td>\n",
              "      <td>3.427</td>\n",
              "      <td>8.216929</td>\n",
              "    </tr>\n",
              "    <tr>\n",
              "      <th>7</th>\n",
              "      <td>0</td>\n",
              "      <td>0.769</td>\n",
              "      <td>9.933263</td>\n",
              "    </tr>\n",
              "    <tr>\n",
              "      <th>8</th>\n",
              "      <td>0</td>\n",
              "      <td>0.775</td>\n",
              "      <td>9.407032</td>\n",
              "    </tr>\n",
              "    <tr>\n",
              "      <th>9</th>\n",
              "      <td>0</td>\n",
              "      <td>2.688</td>\n",
              "      <td>7.792343</td>\n",
              "    </tr>\n",
              "  </tbody>\n",
              "</table>\n",
              "</div>"
            ],
            "text/plain": [
              "   cont_africa  rugged  rgdppc_2000\n",
              "2            1   0.858     7.492609\n",
              "4            0   3.427     8.216929\n",
              "7            0   0.769     9.933263\n",
              "8            0   0.775     9.407032\n",
              "9            0   2.688     7.792343"
            ]
          },
          "metadata": {
            "tags": []
          },
          "execution_count": 132
        }
      ]
    },
    {
      "cell_type": "code",
      "metadata": {
        "id": "s2XHs4JezlSA",
        "colab_type": "code",
        "outputId": "eb5fed15-72b3-4779-e68a-53d0ee0c953d",
        "colab": {
          "base_uri": "https://localhost:8080/",
          "height": 564
        }
      },
      "source": [
        "fig, ax = plt.subplots(nrows=1, ncols=2, figsize=(12, 6), sharey=True)\n",
        "african_nations = df[df[\"cont_africa\"] == 1]\n",
        "non_african_nations = df[df[\"cont_africa\"] == 0]\n",
        "sns.scatterplot(non_african_nations[\"rugged\"],\n",
        "            non_african_nations[\"rgdppc_2000\"],\n",
        "            ax=ax[0])\n",
        "ax[0].set(xlabel=\"Terrain Ruggedness Index\",\n",
        "          ylabel=\"log GDP (2000)\",\n",
        "          title=\"Non African Nations\")\n",
        "sns.scatterplot(african_nations[\"rugged\"],\n",
        "                african_nations[\"rgdppc_2000\"],\n",
        "                ax=ax[1])\n",
        "ax[1].set(xlabel=\"Terrain Ruggedness Index\",\n",
        "          ylabel=\"log GDP (2000)\",\n",
        "          title=\"African Nations\");"
      ],
      "execution_count": 0,
      "outputs": [
        {
          "output_type": "display_data",
          "data": {
            "image/png": "[encoded data removed]",
            "text/plain": [
              "<Figure size 1200x600 with 2 Axes>"
            ]
          },
          "metadata": {
            "tags": []
          }
        }
      ]
    },
    {
      "cell_type": "code",
      "metadata": {
        "id": "XZ71TI-PzlYZ",
        "colab_type": "code",
        "colab": {}
      },
      "source": [
        "df[\"cont_africa_x_rugged\"] = df[\"cont_africa\"] * df[\"rugged\"]"
      ],
      "execution_count": 0,
      "outputs": []
    },
    {
      "cell_type": "code",
      "metadata": {
        "id": "Aque-YXN1Fgi",
        "colab_type": "code",
        "outputId": "bb318733-e0c4-4b9f-fdef-a77c00cd23eb",
        "colab": {
          "base_uri": "https://localhost:8080/",
          "height": 204
        }
      },
      "source": [
        "df.head()"
      ],
      "execution_count": 0,
      "outputs": [
        {
          "output_type": "execute_result",
          "data": {
            "text/html": [
              "<div>\n",
              "<style scoped>\n",
              "    .dataframe tbody tr th:only-of-type {\n",
              "        vertical-align: middle;\n",
              "    }\n",
              "\n",
              "    .dataframe tbody tr th {\n",
              "        vertical-align: top;\n",
              "    }\n",
              "\n",
              "    .dataframe thead th {\n",
              "        text-align: right;\n",
              "    }\n",
              "</style>\n",
              "<table border=\"1\" class=\"dataframe\">\n",
              "  <thead>\n",
              "    <tr style=\"text-align: right;\">\n",
              "      <th></th>\n",
              "      <th>cont_africa</th>\n",
              "      <th>rugged</th>\n",
              "      <th>rgdppc_2000</th>\n",
              "      <th>cont_africa_x_rugged</th>\n",
              "    </tr>\n",
              "  </thead>\n",
              "  <tbody>\n",
              "    <tr>\n",
              "      <th>2</th>\n",
              "      <td>1</td>\n",
              "      <td>0.858</td>\n",
              "      <td>7.492609</td>\n",
              "      <td>0.858</td>\n",
              "    </tr>\n",
              "    <tr>\n",
              "      <th>4</th>\n",
              "      <td>0</td>\n",
              "      <td>3.427</td>\n",
              "      <td>8.216929</td>\n",
              "      <td>0.000</td>\n",
              "    </tr>\n",
              "    <tr>\n",
              "      <th>7</th>\n",
              "      <td>0</td>\n",
              "      <td>0.769</td>\n",
              "      <td>9.933263</td>\n",
              "      <td>0.000</td>\n",
              "    </tr>\n",
              "    <tr>\n",
              "      <th>8</th>\n",
              "      <td>0</td>\n",
              "      <td>0.775</td>\n",
              "      <td>9.407032</td>\n",
              "      <td>0.000</td>\n",
              "    </tr>\n",
              "    <tr>\n",
              "      <th>9</th>\n",
              "      <td>0</td>\n",
              "      <td>2.688</td>\n",
              "      <td>7.792343</td>\n",
              "      <td>0.000</td>\n",
              "    </tr>\n",
              "  </tbody>\n",
              "</table>\n",
              "</div>"
            ],
            "text/plain": [
              "   cont_africa  rugged  rgdppc_2000  cont_africa_x_rugged\n",
              "2            1   0.858     7.492609                 0.858\n",
              "4            0   3.427     8.216929                 0.000\n",
              "7            0   0.769     9.933263                 0.000\n",
              "8            0   0.775     9.407032                 0.000\n",
              "9            0   2.688     7.792343                 0.000"
            ]
          },
          "metadata": {
            "tags": []
          },
          "execution_count": 135
        }
      ]
    },
    {
      "cell_type": "code",
      "metadata": {
        "id": "WCiFa-851FkC",
        "colab_type": "code",
        "colab": {}
      },
      "source": [
        "data = torch.tensor(df[[\"cont_africa\", \"rugged\", \"cont_africa_x_rugged\", \"rgdppc_2000\"]].values, dtype=torch.float)"
      ],
      "execution_count": 0,
      "outputs": []
    },
    {
      "cell_type": "code",
      "metadata": {
        "id": "pFOYzisR1FnE",
        "colab_type": "code",
        "colab": {}
      },
      "source": [
        "x_data, y_data = data[:, :-1], data[:, -1]"
      ],
      "execution_count": 0,
      "outputs": []
    },
    {
      "cell_type": "code",
      "metadata": {
        "id": "fUUcVa792_zF",
        "colab_type": "code",
        "colab": {}
      },
      "source": [
        "class BayesianRegression(PyroModule):\n",
        "    def __init__(self, in_features, out_features):\n",
        "        super().__init__()\n",
        "        self.linear = PyroModule[nn.Linear](in_features, out_features)\n",
        "        self.linear.weight = PyroSample(dist.Normal(0., 1.).expand([out_features, in_features]).to_event(2))\n",
        "        self.linear.bias = PyroSample(dist.Normal(0., 10.).expand([out_features]).to_event(1))\n",
        "\n",
        "    def forward(self, x, y=None):\n",
        "        sigma = pyro.sample(\"sigma\", dist.Uniform(0., 10.))\n",
        "        mean = self.linear(x).squeeze(-1)\n",
        "        with pyro.plate(\"data\", x.shape[0]):\n",
        "            obs = pyro.sample(\"obs\", dist.Normal(mean, sigma), obs=y)\n",
        "        return mean"
      ],
      "execution_count": 0,
      "outputs": []
    },
    {
      "cell_type": "code",
      "metadata": {
        "id": "KXbPS6fQ686-",
        "colab_type": "code",
        "colab": {}
      },
      "source": [
        "model = BayesianRegression(3, 1)\n",
        "guide = AutoDiagonalNormal(model)"
      ],
      "execution_count": 0,
      "outputs": []
    },
    {
      "cell_type": "code",
      "metadata": {
        "id": "UlwHp0aG68-n",
        "colab_type": "code",
        "outputId": "4ece4a8e-10c6-4b9b-e699-86292a2287ef",
        "colab": {
          "base_uri": "https://localhost:8080/",
          "height": 272
        }
      },
      "source": [
        "num_iterations = 1500 \n",
        "adam = pyro.optim.Adam({\"lr\": 0.03})\n",
        "svi = SVI(model, guide, adam, loss=Trace_ELBO())\n",
        "\n",
        "pyro.clear_param_store()\n",
        "for j in range(num_iterations):\n",
        "    loss = svi.step(x_data, y_data)\n",
        "    if j % 100 == 0:\n",
        "        print(\"[iteration %04d] loss: %.4f\" % (j + 1, loss / len(x_data)))"
      ],
      "execution_count": 0,
      "outputs": [
        {
          "output_type": "stream",
          "text": [
            "[iteration 0001] loss: 1.4721\n",
            "[iteration 0101] loss: 1.4613\n",
            "[iteration 0201] loss: 1.4557\n",
            "[iteration 0301] loss: 1.4600\n",
            "[iteration 0401] loss: 1.4590\n",
            "[iteration 0501] loss: 1.5258\n",
            "[iteration 0601] loss: 1.4778\n",
            "[iteration 0701] loss: 1.4597\n",
            "[iteration 0801] loss: 1.4658\n",
            "[iteration 0901] loss: 1.4930\n",
            "[iteration 1001] loss: 1.4642\n",
            "[iteration 1101] loss: 1.5358\n",
            "[iteration 1201] loss: 1.4683\n",
            "[iteration 1301] loss: 1.4658\n",
            "[iteration 1401] loss: 1.4678\n"
          ],
          "name": "stdout"
        }
      ]
    },
    {
      "cell_type": "code",
      "metadata": {
        "colab_type": "code",
        "outputId": "fe0395e6-676f-42b0-fa6d-778ea18e9195",
        "id": "aBp8oidOEgxm",
        "colab": {
          "base_uri": "https://localhost:8080/",
          "height": 68
        }
      },
      "source": [
        "guide.requires_grad_(False)\n",
        "\n",
        "for name, value in pyro.get_param_store().items():\n",
        "    print(name, pyro.param(name))"
      ],
      "execution_count": 0,
      "outputs": [
        {
          "output_type": "stream",
          "text": [
            "AutoDiagonalNormal.loc Parameter containing:\n",
            "tensor([-2.2971, -1.8660, -0.1774,  0.2916,  9.1980])\n",
            "AutoDiagonalNormal.scale tensor([0.0564, 0.1463, 0.0454, 0.0945, 0.0771])\n"
          ],
          "name": "stdout"
        }
      ]
    },
    {
      "cell_type": "code",
      "metadata": {
        "id": "ey3gS9jV69Gj",
        "colab_type": "code",
        "colab": {}
      },
      "source": [
        "def summary(samples):\n",
        "    site_stats = {}\n",
        "    for k, v in samples.items():\n",
        "        site_stats[k] = {\n",
        "            \"mean\": torch.mean(v, 0),\n",
        "            \"std\": torch.std(v, 0),\n",
        "            \"5%\": v.kthvalue(int(len(v) * 0.05), dim=0)[0],\n",
        "            \"95%\": v.kthvalue(int(len(v) * 0.95), dim=0)[0],\n",
        "        }\n",
        "    return site_stats\n"
      ],
      "execution_count": 0,
      "outputs": []
    },
    {
      "cell_type": "code",
      "metadata": {
        "id": "pCUAxKwo9HOx",
        "colab_type": "code",
        "colab": {}
      },
      "source": [
        "predictive = Predictive(model, guide=guide, num_samples=800, return_sites=(\"linear.weight\", \"obs\", \"_RETURN\"))\n",
        "samples = predictive(x_data)\n",
        "pred_summary = summary(samples)"
      ],
      "execution_count": 0,
      "outputs": []
    },
    {
      "cell_type": "code",
      "metadata": {
        "id": "Woo4asYQFEDh",
        "colab_type": "code",
        "outputId": "b9815b4b-fa9b-463c-ed40-7aed74d286e6",
        "colab": {
          "base_uri": "https://localhost:8080/",
          "height": 34
        }
      },
      "source": [
        "samples.keys()"
      ],
      "execution_count": 0,
      "outputs": [
        {
          "output_type": "execute_result",
          "data": {
            "text/plain": [
              "dict_keys(['linear.weight', 'obs', '_RETURN'])"
            ]
          },
          "metadata": {
            "tags": []
          },
          "execution_count": 153
        }
      ]
    },
    {
      "cell_type": "code",
      "metadata": {
        "id": "OHxV8LZ59Ijm",
        "colab_type": "code",
        "colab": {}
      },
      "source": [
        "mu = pred_summary[\"_RETURN\"]\n",
        "y = pred_summary[\"obs\"]\n",
        "predictions = pd.DataFrame({\n",
        "    \"cont_africa\": x_data[:, 0],\n",
        "    \"rugged\": x_data[:, 1],\n",
        "    \"mu_mean\": mu[\"mean\"],\n",
        "    \"mu_perc_5\": mu[\"5%\"],\n",
        "    \"mu_perc_95\": mu[\"95%\"],\n",
        "    \"y_mean\": y[\"mean\"],\n",
        "    \"y_perc_5\": y[\"5%\"],\n",
        "    \"y_perc_95\": y[\"95%\"],\n",
        "    \"true_gdp\": y_data,\n",
        "})"
      ],
      "execution_count": 0,
      "outputs": []
    },
    {
      "cell_type": "code",
      "metadata": {
        "id": "jojJwZ-2_F7C",
        "colab_type": "code",
        "colab": {}
      },
      "source": [
        "mu = pred_summary[\"_RETURN\"]\n",
        "y = pred_summary[\"obs\"]\n"
      ],
      "execution_count": 0,
      "outputs": []
    },
    {
      "cell_type": "code",
      "metadata": {
        "id": "siTxpDxB_GCr",
        "colab_type": "code",
        "outputId": "2e494cdb-c30a-4c59-8555-4a1faefd519c",
        "colab": {
          "base_uri": "https://localhost:8080/",
          "height": 34
        }
      },
      "source": [
        "y['mean'][:5]"
      ],
      "execution_count": 0,
      "outputs": [
        {
          "output_type": "execute_result",
          "data": {
            "text/plain": [
              "tensor([7.4052, 8.6584, 9.0133, 9.0223, 8.6867])"
            ]
          },
          "metadata": {
            "tags": []
          },
          "execution_count": 158
        }
      ]
    },
    {
      "cell_type": "code",
      "metadata": {
        "id": "5InSgpDx_GIm",
        "colab_type": "code",
        "outputId": "a2940982-2f59-4790-955a-461acf8c59a5",
        "colab": {
          "base_uri": "https://localhost:8080/",
          "height": 34
        }
      },
      "source": [
        "y_data[:5]"
      ],
      "execution_count": 0,
      "outputs": [
        {
          "output_type": "execute_result",
          "data": {
            "text/plain": [
              "tensor([7.4926, 8.2169, 9.9333, 9.4070, 7.7923])"
            ]
          },
          "metadata": {
            "tags": []
          },
          "execution_count": 159
        }
      ]
    },
    {
      "cell_type": "code",
      "metadata": {
        "id": "c0ifxD76_GAU",
        "colab_type": "code",
        "colab": {}
      },
      "source": [
        ""
      ],
      "execution_count": 0,
      "outputs": []
    },
    {
      "cell_type": "code",
      "metadata": {
        "id": "GscxqkKLErB7",
        "colab_type": "code",
        "outputId": "d77b4d7b-1fc0-40bc-8bc8-803d68140e80",
        "colab": {
          "base_uri": "https://localhost:8080/",
          "height": 204
        }
      },
      "source": [
        "predictions.head()"
      ],
      "execution_count": 0,
      "outputs": [
        {
          "output_type": "execute_result",
          "data": {
            "text/html": [
              "<div>\n",
              "<style scoped>\n",
              "    .dataframe tbody tr th:only-of-type {\n",
              "        vertical-align: middle;\n",
              "    }\n",
              "\n",
              "    .dataframe tbody tr th {\n",
              "        vertical-align: top;\n",
              "    }\n",
              "\n",
              "    .dataframe thead th {\n",
              "        text-align: right;\n",
              "    }\n",
              "</style>\n",
              "<table border=\"1\" class=\"dataframe\">\n",
              "  <thead>\n",
              "    <tr style=\"text-align: right;\">\n",
              "      <th></th>\n",
              "      <th>cont_africa</th>\n",
              "      <th>rugged</th>\n",
              "      <th>mu_mean</th>\n",
              "      <th>mu_perc_5</th>\n",
              "      <th>mu_perc_95</th>\n",
              "      <th>y_mean</th>\n",
              "      <th>y_perc_5</th>\n",
              "      <th>y_perc_95</th>\n",
              "      <th>true_gdp</th>\n",
              "    </tr>\n",
              "  </thead>\n",
              "  <tbody>\n",
              "    <tr>\n",
              "      <th>0</th>\n",
              "      <td>1.0</td>\n",
              "      <td>0.858</td>\n",
              "      <td>7.555674</td>\n",
              "      <td>7.244160</td>\n",
              "      <td>7.864501</td>\n",
              "      <td>7.601368</td>\n",
              "      <td>5.819968</td>\n",
              "      <td>9.300538</td>\n",
              "      <td>7.492610</td>\n",
              "    </tr>\n",
              "    <tr>\n",
              "      <th>1</th>\n",
              "      <td>0.0</td>\n",
              "      <td>3.427</td>\n",
              "      <td>8.681877</td>\n",
              "      <td>8.436876</td>\n",
              "      <td>8.931727</td>\n",
              "      <td>8.662459</td>\n",
              "      <td>6.948818</td>\n",
              "      <td>10.210230</td>\n",
              "      <td>8.216929</td>\n",
              "    </tr>\n",
              "    <tr>\n",
              "      <th>2</th>\n",
              "      <td>0.0</td>\n",
              "      <td>0.769</td>\n",
              "      <td>9.082697</td>\n",
              "      <td>8.951882</td>\n",
              "      <td>9.213259</td>\n",
              "      <td>9.076014</td>\n",
              "      <td>7.485076</td>\n",
              "      <td>10.679414</td>\n",
              "      <td>9.933263</td>\n",
              "    </tr>\n",
              "    <tr>\n",
              "      <th>3</th>\n",
              "      <td>0.0</td>\n",
              "      <td>0.775</td>\n",
              "      <td>9.081794</td>\n",
              "      <td>8.950770</td>\n",
              "      <td>9.212543</td>\n",
              "      <td>9.066601</td>\n",
              "      <td>7.443042</td>\n",
              "      <td>10.641148</td>\n",
              "      <td>9.407031</td>\n",
              "    </tr>\n",
              "    <tr>\n",
              "      <th>4</th>\n",
              "      <td>0.0</td>\n",
              "      <td>2.688</td>\n",
              "      <td>8.793317</td>\n",
              "      <td>8.593460</td>\n",
              "      <td>9.008084</td>\n",
              "      <td>8.809918</td>\n",
              "      <td>7.235983</td>\n",
              "      <td>10.369424</td>\n",
              "      <td>7.792343</td>\n",
              "    </tr>\n",
              "  </tbody>\n",
              "</table>\n",
              "</div>"
            ],
            "text/plain": [
              "   cont_africa  rugged   mu_mean  ...  y_perc_5  y_perc_95  true_gdp\n",
              "0          1.0   0.858  7.555674  ...  5.819968   9.300538  7.492610\n",
              "1          0.0   3.427  8.681877  ...  6.948818  10.210230  8.216929\n",
              "2          0.0   0.769  9.082697  ...  7.485076  10.679414  9.933263\n",
              "3          0.0   0.775  9.081794  ...  7.443042  10.641148  9.407031\n",
              "4          0.0   2.688  8.793317  ...  7.235983  10.369424  7.792343\n",
              "\n",
              "[5 rows x 9 columns]"
            ]
          },
          "metadata": {
            "tags": []
          },
          "execution_count": 27
        }
      ]
    },
    {
      "cell_type": "code",
      "metadata": {
        "id": "JF67XoDg9Ipz",
        "colab_type": "code",
        "outputId": "267e4bd1-815f-4141-cc06-68187c97132f",
        "colab": {
          "base_uri": "https://localhost:8080/",
          "height": 539
        }
      },
      "source": [
        "fig, ax = plt.subplots(nrows=1, ncols=1, figsize=(12, 6), sharey=True)\n",
        "\n",
        "non_african_nations = predictions[predictions[\"cont_africa\"] == 0]\n",
        "non_african_nations = non_african_nations.sort_values(by=[\"rugged\"])\n",
        "\n",
        "ax.plot(non_african_nations[\"rugged\"],  non_african_nations[\"mu_mean\"])\n",
        "ax.fill_between(non_african_nations[\"rugged\"],\n",
        "                   non_african_nations[\"mu_perc_5\"],\n",
        "                   non_african_nations[\"mu_perc_95\"],\n",
        "                   alpha=0.5)\n",
        "ax.plot(non_african_nations[\"rugged\"], non_african_nations[\"true_gdp\"],\"o\")\n"
      ],
      "execution_count": 0,
      "outputs": [
        {
          "output_type": "execute_result",
          "data": {
            "text/plain": [
              "[<matplotlib.lines.Line2D at 0x7fdf21976f28>]"
            ]
          },
          "metadata": {
            "tags": []
          },
          "execution_count": 51
        },
        {
          "output_type": "display_data",
          "data": {
            "image/png": "[encoded data removed]",
            "text/plain": [
              "<Figure size 1200x600 with 1 Axes>"
            ]
          },
          "metadata": {
            "tags": []
          }
        }
      ]
    },
    {
      "cell_type": "code",
      "metadata": {
        "id": "2FMAS3VI9ItH",
        "colab_type": "code",
        "outputId": "f0d0b9de-c93c-407b-eb8d-cf6f122c0ba4",
        "colab": {
          "base_uri": "https://localhost:8080/",
          "height": 539
        }
      },
      "source": [
        "fig, ax = plt.subplots(nrows=1, ncols=1, figsize=(12, 6), sharey=True)\n",
        "ax.plot(non_african_nations[\"rugged\"],non_african_nations[\"y_mean\"])\n",
        "ax.fill_between(non_african_nations[\"rugged\"],non_african_nations[\"y_perc_5\"],non_african_nations[\"y_perc_95\"],alpha=0.5)\n",
        "ax.plot(non_african_nations[\"rugged\"], non_african_nations[\"true_gdp\"],\"o\")\n"
      ],
      "execution_count": 0,
      "outputs": [
        {
          "output_type": "execute_result",
          "data": {
            "text/plain": [
              "[<matplotlib.lines.Line2D at 0x7fdf218c3320>]"
            ]
          },
          "metadata": {
            "tags": []
          },
          "execution_count": 53
        },
        {
          "output_type": "display_data",
          "data": {
            "image/png": "[encoded data removed]",
            "text/plain": [
              "<Figure size 1200x600 with 1 Axes>"
            ]
          },
          "metadata": {
            "tags": []
          }
        }
      ]
    },
    {
      "cell_type": "code",
      "metadata": {
        "id": "crrXtXbNLkHV",
        "colab_type": "code",
        "colab": {}
      },
      "source": [
        "weight = samples[\"linear.weight\"]"
      ],
      "execution_count": 0,
      "outputs": []
    },
    {
      "cell_type": "code",
      "metadata": {
        "id": "wJUlRWBMLnBi",
        "colab_type": "code",
        "outputId": "d20b687a-0de2-4682-d678-a2f21bf6cd77",
        "colab": {
          "base_uri": "https://localhost:8080/",
          "height": 34
        }
      },
      "source": [
        "type(weight)"
      ],
      "execution_count": 0,
      "outputs": [
        {
          "output_type": "execute_result",
          "data": {
            "text/plain": [
              "torch.Tensor"
            ]
          },
          "metadata": {
            "tags": []
          },
          "execution_count": 57
        }
      ]
    },
    {
      "cell_type": "code",
      "metadata": {
        "id": "bVPWFGsLLnHu",
        "colab_type": "code",
        "outputId": "1486c384-c1b2-43d8-f113-76c8563fe2f2",
        "colab": {
          "base_uri": "https://localhost:8080/",
          "height": 34
        }
      },
      "source": [
        "weight.size()"
      ],
      "execution_count": 0,
      "outputs": [
        {
          "output_type": "execute_result",
          "data": {
            "text/plain": [
              "torch.Size([800, 1, 1, 3])"
            ]
          },
          "metadata": {
            "tags": []
          },
          "execution_count": 58
        }
      ]
    },
    {
      "cell_type": "code",
      "metadata": {
        "id": "5R3MvpIhLnPr",
        "colab_type": "code",
        "outputId": "bebfb46c-f414-442f-afe2-605edde8b20d",
        "colab": {
          "base_uri": "https://localhost:8080/",
          "height": 34
        }
      },
      "source": [
        "weight = weight.reshape(weight.shape[0], 3)\n",
        "weight.size()"
      ],
      "execution_count": 0,
      "outputs": [
        {
          "output_type": "execute_result",
          "data": {
            "text/plain": [
              "torch.Size([800, 3])"
            ]
          },
          "metadata": {
            "tags": []
          },
          "execution_count": 59
        }
      ]
    },
    {
      "cell_type": "code",
      "metadata": {
        "id": "p6G3q_Lx9Ivv",
        "colab_type": "code",
        "outputId": "a6177aa1-c5ff-4b60-cbf8-1e2e6de80ea7",
        "colab": {
          "base_uri": "https://localhost:8080/",
          "height": 539
        }
      },
      "source": [
        "weight = samples[\"linear.weight\"]\n",
        "weight = weight.reshape(weight.shape[0], 3)\n",
        "gamma_outside_africa = weight[:, 1]\n",
        "fig = plt.figure(figsize=(10, 6))\n",
        "sns.distplot(gamma_outside_africa, kde_kws={\"label\": \"Non-African nations\"})\n"
      ],
      "execution_count": 0,
      "outputs": [
        {
          "output_type": "execute_result",
          "data": {
            "text/plain": [
              "<matplotlib.axes._subplots.AxesSubplot at 0x7fdf219216d8>"
            ]
          },
          "metadata": {
            "tags": []
          },
          "execution_count": 55
        },
        {
          "output_type": "display_data",
          "data": {
            "image/png": "[encoded data removed]",
            "text/plain": [
              "<Figure size 1000x600 with 1 Axes>"
            ]
          },
          "metadata": {
            "tags": []
          }
        }
      ]
    },
    {
      "cell_type": "code",
      "metadata": {
        "id": "1VtPYLx2WKvv",
        "colab_type": "code",
        "colab": {}
      },
      "source": [
        ""
      ],
      "execution_count": 0,
      "outputs": []
    },
    {
      "cell_type": "code",
      "metadata": {
        "id": "_zOJoaZxWK5c",
        "colab_type": "code",
        "colab": {}
      },
      "source": [
        ""
      ],
      "execution_count": 0,
      "outputs": []
    },
    {
      "cell_type": "code",
      "metadata": {
        "id": "LJmHM_w6WLDr",
        "colab_type": "code",
        "colab": {}
      },
      "source": [
        ""
      ],
      "execution_count": 0,
      "outputs": []
    },
    {
      "cell_type": "code",
      "metadata": {
        "id": "jwHAq-VEWLBE",
        "colab_type": "code",
        "colab": {}
      },
      "source": [
        ""
      ],
      "execution_count": 0,
      "outputs": []
    },
    {
      "cell_type": "code",
      "metadata": {
        "id": "Rr6qeaurWK-o",
        "colab_type": "code",
        "colab": {}
      },
      "source": [
        ""
      ],
      "execution_count": 0,
      "outputs": []
    },
    {
      "cell_type": "code",
      "metadata": {
        "id": "srW1Xr5zWK24",
        "colab_type": "code",
        "colab": {}
      },
      "source": [
        ""
      ],
      "execution_count": 0,
      "outputs": []
    },
    {
      "cell_type": "code",
      "metadata": {
        "id": "AXWDbaerWK0R",
        "colab_type": "code",
        "colab": {}
      },
      "source": [
        "import os\n",
        "from functools import partial\n",
        "import torch\n",
        "import numpy as np\n",
        "import pandas as pd\n",
        "import seaborn as sns\n",
        "import matplotlib.pyplot as plt\n",
        "\n",
        "from torch import nn\n",
        "from pyro.nn import PyroModule\n",
        "import pyro\n",
        "import pyro.distributions as dist\n",
        "from pyro.nn import PyroSample\n",
        "from pyro.infer.autoguide import AutoDiagonalNormal\n",
        "\n",
        "# for CI testing\n",
        "smoke_test = ('CI' in os.environ)\n",
        "\n",
        "pyro.enable_validation(True)\n",
        "pyro.set_rng_seed(1)\n",
        "pyro.enable_validation(True)\n",
        "\n",
        "\n",
        "# Set matplotlib settings\n",
        "%matplotlib inline\n",
        "plt.style.use('default')"
      ],
      "execution_count": 0,
      "outputs": []
    },
    {
      "cell_type": "code",
      "metadata": {
        "id": "KyRI7nLM9InV",
        "colab_type": "code",
        "colab": {}
      },
      "source": [
        "import pickle"
      ],
      "execution_count": 0,
      "outputs": []
    },
    {
      "cell_type": "code",
      "metadata": {
        "id": "vc3NaedqV-SD",
        "colab_type": "code",
        "colab": {}
      },
      "source": [
        "with open('Bex1.p','rb') as f:\n",
        "  x_data =pickle.load(f)\n",
        "  y_data =pickle.load(f)"
      ],
      "execution_count": 0,
      "outputs": []
    },
    {
      "cell_type": "code",
      "metadata": {
        "id": "sW-nJwIVV-Ol",
        "colab_type": "code",
        "outputId": "b50bceec-1673-47fc-85ff-fd953b33822d",
        "colab": {
          "base_uri": "https://localhost:8080/",
          "height": 34
        }
      },
      "source": [
        ""
      ],
      "execution_count": 0,
      "outputs": [
        {
          "output_type": "execute_result",
          "data": {
            "text/plain": [
              "170"
            ]
          },
          "metadata": {
            "tags": []
          },
          "execution_count": 56
        }
      ]
    },
    {
      "cell_type": "code",
      "metadata": {
        "id": "6qEdLn9COOzK",
        "colab_type": "code",
        "colab": {}
      },
      "source": [
        "class NN(nn.Module):\n",
        "    \n",
        "    def __init__(self, input_size, output_size):\n",
        "        super(NN, self).__init__()\n",
        "        self.out = nn.Linear(input_size, output_size)\n",
        "        \n",
        "    def forward(self, x):\n",
        "        output = self.out(x)\n",
        "        return output\n"
      ],
      "execution_count": 0,
      "outputs": []
    },
    {
      "cell_type": "code",
      "metadata": {
        "id": "Z_EWp9fKOO8m",
        "colab_type": "code",
        "colab": {}
      },
      "source": [
        "net = NN(3, 1)"
      ],
      "execution_count": 0,
      "outputs": []
    },
    {
      "cell_type": "code",
      "metadata": {
        "id": "1bDDOmOgOPBS",
        "colab_type": "code",
        "colab": {}
      },
      "source": [
        "import pyro\n",
        "from pyro.distributions import Normal, Categorical\n",
        "from pyro.infer import SVI, Trace_ELBO\n",
        "from pyro.optim import Adam"
      ],
      "execution_count": 0,
      "outputs": []
    },
    {
      "cell_type": "code",
      "metadata": {
        "id": "-3JfFr1IXFVn",
        "colab_type": "code",
        "colab": {}
      },
      "source": [
        "softplus = torch.nn.Softplus()"
      ],
      "execution_count": 0,
      "outputs": []
    },
    {
      "cell_type": "code",
      "metadata": {
        "id": "X_wyQ7leOO50",
        "colab_type": "code",
        "colab": {}
      },
      "source": [
        "def model0(x_data, y_data):\n",
        "    \n",
        "    outw_prior = Normal(loc=torch.zeros_like(net.out.weight), scale=torch.ones_like(net.out.weight)).independent(1)\n",
        "    outb_prior = Normal(loc=torch.zeros_like(net.out.bias), scale=torch.ones_like(net.out.bias)).independent(1)\n",
        "    \n",
        "    priors = {'out.weight': outw_prior, 'out.bias': outb_prior}\n",
        "    # lift module parameters to random variables sampled from the priors\n",
        "    lifted_module = pyro.random_module(\"module\", net, priors)\n",
        "    lifted_reg_model = lifted_module()   \n",
        "    mean = lifted_reg_model(x_data).squeeze(-1)\n",
        "    sigma = pyro.sample(\"sigma\", dist.Uniform(0., 10.))\n",
        "    with pyro.plate(\"data\", x_data.shape[0]):\n",
        "      obs = pyro.sample(\"obs\", dist.Normal(mean, sigma), obs=y_data)\n",
        "\n",
        "\n"
      ],
      "execution_count": 0,
      "outputs": []
    },
    {
      "cell_type": "code",
      "metadata": {
        "id": "G0f3waxAOoVI",
        "colab_type": "code",
        "colab": {}
      },
      "source": [
        "def guide0(x_data, y_data):\n",
        "    # Output layer weight distribution priors\n",
        "    outw_mu = torch.randn_like(net.out.weight)\n",
        "    outw_sigma = torch.randn_like(net.out.weight)\n",
        "    outw_mu_param = pyro.param(\"outw_mu\", outw_mu)\n",
        "    outw_sigma_param = softplus(pyro.param(\"outw_sigma\", outw_sigma))\n",
        "    outw_prior = Normal(loc=outw_mu_param, scale=outw_sigma_param).independent(2)\n",
        "    # Output layer bias distribution priors\n",
        "    outb_mu = torch.randn_like(net.out.bias)\n",
        "    outb_sigma = torch.randn_like(net.out.bias)\n",
        "    outb_mu_param = pyro.param(\"outb_mu\", outb_mu)\n",
        "    outb_sigma_param = softplus(pyro.param(\"outb_sigma\", outb_sigma))\n",
        "    outb_prior = Normal(loc=outb_mu_param, scale=outb_sigma_param).independent(1)\n",
        "    priors = {'out.weight': outw_prior, 'out.bias': outb_prior}\n",
        "    \n",
        "    lifted_module = pyro.random_module(\"module\", net, priors)\n",
        "    return lifted_module()"
      ],
      "execution_count": 0,
      "outputs": []
    },
    {
      "cell_type": "code",
      "metadata": {
        "id": "0CqFEl6DbZ2C",
        "colab_type": "code",
        "colab": {}
      },
      "source": [
        "class BayesianRegression(PyroModule):\n",
        "    def __init__(self, in_features, out_features):\n",
        "        super().__init__()\n",
        "        self.linear = PyroModule[nn.Linear](in_features, out_features)\n",
        "        self.linear.weight = PyroSample(dist.Normal(0., 1.).expand([out_features, in_features]).to_event(2))\n",
        "        self.linear.bias = PyroSample(dist.Normal(0., 10.).expand([out_features]).to_event(1))\n",
        "\n",
        "    def forward(self, x, y=None):\n",
        "        sigma = pyro.sample(\"sigma\", dist.Uniform(0., 10.))\n",
        "        mean = self.linear(x).squeeze(-1)\n",
        "        with pyro.plate(\"data\", x.shape[0]):\n",
        "            obs = pyro.sample(\"obs\", dist.Normal(mean, sigma), obs=y)\n",
        "        return mean"
      ],
      "execution_count": 0,
      "outputs": []
    },
    {
      "cell_type": "code",
      "metadata": {
        "id": "sORjT6Clocpc",
        "colab_type": "code",
        "colab": {}
      },
      "source": [
        "class BayesianRegression2(PyroModule):\n",
        "    def __init__(self, in_features, hidden_features, out_features):\n",
        "        super().__init__()\n",
        "        self.linear1 = PyroModule[nn.Linear](in_features, hidden_features)\n",
        "        self.linear1.weight = PyroSample(dist.Normal(0., 1.).expand([hidden_features, in_features]).to_event(2))\n",
        "        self.linear1.bias = PyroSample(dist.Normal(0., 10.).expand([hidden_features]).to_event(1))\n",
        "\n",
        "        self.linear2 = PyroModule[nn.Linear](hidden_features, out_features)\n",
        "        self.linear2.weight = PyroSample(dist.Normal(0., 1.).expand([out_features, hidden_features]).to_event(2))\n",
        "        self.linea2.bias = PyroSample(dist.Normal(0., 10.).expand([out_features]).to_event(1))\n",
        "\n",
        "\n",
        "    def forward(self, x, y=None):\n",
        "        sigma = pyro.sample(\"sigma\", dist.Uniform(0., 10.))\n",
        "        x1 = self.linear1(x)\n",
        "        mean = self.linear2(x1).squeeze(-1)\n",
        "        with pyro.plate(\"data\", x.shape[0]):\n",
        "            obs = pyro.sample(\"obs\", dist.Normal(mean, sigma), obs=y)\n",
        "        return mean"
      ],
      "execution_count": 0,
      "outputs": []
    },
    {
      "cell_type": "code",
      "metadata": {
        "id": "7KVkwlK2jDzJ",
        "colab_type": "code",
        "outputId": "66dd525d-e988-4046-af78-afdaa09c4c66",
        "colab": {
          "base_uri": "https://localhost:8080/",
          "height": 307
        }
      },
      "source": [
        "model = BayesianRegression2(3, 5, 1)"
      ],
      "execution_count": 0,
      "outputs": [
        {
          "output_type": "error",
          "ename": "AttributeError",
          "evalue": "ignored",
          "traceback": [
            "\u001b[0;31m---------------------------------------------------------------------------\u001b[0m",
            "\u001b[0;31mAttributeError\u001b[0m                            Traceback (most recent call last)",
            "\u001b[0;32m<ipython-input-197-d2d8b466a7db>\u001b[0m in \u001b[0;36m<module>\u001b[0;34m()\u001b[0m\n\u001b[0;32m----> 1\u001b[0;31m \u001b[0mmodel\u001b[0m \u001b[0;34m=\u001b[0m \u001b[0mBayesianRegression2\u001b[0m\u001b[0;34m(\u001b[0m\u001b[0;36m3\u001b[0m\u001b[0;34m,\u001b[0m \u001b[0;36m5\u001b[0m\u001b[0;34m,\u001b[0m \u001b[0;36m1\u001b[0m\u001b[0;34m)\u001b[0m\u001b[0;34m\u001b[0m\u001b[0;34m\u001b[0m\u001b[0m\n\u001b[0m",
            "\u001b[0;32m<ipython-input-196-21ce45c1fa6e>\u001b[0m in \u001b[0;36m__init__\u001b[0;34m(self, in_features, hidden_features, out_features)\u001b[0m\n\u001b[1;32m      8\u001b[0m         \u001b[0mself\u001b[0m\u001b[0;34m.\u001b[0m\u001b[0mlinear2\u001b[0m \u001b[0;34m=\u001b[0m \u001b[0mPyroModule\u001b[0m\u001b[0;34m[\u001b[0m\u001b[0mnn\u001b[0m\u001b[0;34m.\u001b[0m\u001b[0mLinear\u001b[0m\u001b[0;34m]\u001b[0m\u001b[0;34m(\u001b[0m\u001b[0mhidden_features\u001b[0m\u001b[0;34m,\u001b[0m \u001b[0mout_features\u001b[0m\u001b[0;34m)\u001b[0m\u001b[0;34m\u001b[0m\u001b[0;34m\u001b[0m\u001b[0m\n\u001b[1;32m      9\u001b[0m         \u001b[0mself\u001b[0m\u001b[0;34m.\u001b[0m\u001b[0mlinear2\u001b[0m\u001b[0;34m.\u001b[0m\u001b[0mweight\u001b[0m \u001b[0;34m=\u001b[0m \u001b[0mPyroSample\u001b[0m\u001b[0;34m(\u001b[0m\u001b[0mdist\u001b[0m\u001b[0;34m.\u001b[0m\u001b[0mNormal\u001b[0m\u001b[0;34m(\u001b[0m\u001b[0;36m0.\u001b[0m\u001b[0;34m,\u001b[0m \u001b[0;36m1.\u001b[0m\u001b[0;34m)\u001b[0m\u001b[0;34m.\u001b[0m\u001b[0mexpand\u001b[0m\u001b[0;34m(\u001b[0m\u001b[0;34m[\u001b[0m\u001b[0mout_features\u001b[0m\u001b[0;34m,\u001b[0m \u001b[0mhidden_features\u001b[0m\u001b[0;34m]\u001b[0m\u001b[0;34m)\u001b[0m\u001b[0;34m.\u001b[0m\u001b[0mto_event\u001b[0m\u001b[0;34m(\u001b[0m\u001b[0;36m2\u001b[0m\u001b[0;34m)\u001b[0m\u001b[0;34m)\u001b[0m\u001b[0;34m\u001b[0m\u001b[0;34m\u001b[0m\u001b[0m\n\u001b[0;32m---> 10\u001b[0;31m         \u001b[0mself\u001b[0m\u001b[0;34m.\u001b[0m\u001b[0mlinea2\u001b[0m\u001b[0;34m.\u001b[0m\u001b[0mbias\u001b[0m \u001b[0;34m=\u001b[0m \u001b[0mPyroSample\u001b[0m\u001b[0;34m(\u001b[0m\u001b[0mdist\u001b[0m\u001b[0;34m.\u001b[0m\u001b[0mNormal\u001b[0m\u001b[0;34m(\u001b[0m\u001b[0;36m0.\u001b[0m\u001b[0;34m,\u001b[0m \u001b[0;36m10.\u001b[0m\u001b[0;34m)\u001b[0m\u001b[0;34m.\u001b[0m\u001b[0mexpand\u001b[0m\u001b[0;34m(\u001b[0m\u001b[0;34m[\u001b[0m\u001b[0mout_features\u001b[0m\u001b[0;34m]\u001b[0m\u001b[0;34m)\u001b[0m\u001b[0;34m.\u001b[0m\u001b[0mto_event\u001b[0m\u001b[0;34m(\u001b[0m\u001b[0;36m1\u001b[0m\u001b[0;34m)\u001b[0m\u001b[0;34m)\u001b[0m\u001b[0;34m\u001b[0m\u001b[0;34m\u001b[0m\u001b[0m\n\u001b[0m\u001b[1;32m     11\u001b[0m \u001b[0;34m\u001b[0m\u001b[0m\n\u001b[1;32m     12\u001b[0m \u001b[0;34m\u001b[0m\u001b[0m\n",
            "\u001b[0;32m/usr/local/lib/python3.6/dist-packages/pyro/nn/module.py\u001b[0m in \u001b[0;36m__getattr__\u001b[0;34m(self, name)\u001b[0m\n\u001b[1;32m    338\u001b[0m                     \u001b[0;32mreturn\u001b[0m \u001b[0mprior\u001b[0m\u001b[0;34m(\u001b[0m\u001b[0;34m)\u001b[0m\u001b[0;34m\u001b[0m\u001b[0;34m\u001b[0m\u001b[0m\n\u001b[1;32m    339\u001b[0m \u001b[0;34m\u001b[0m\u001b[0m\n\u001b[0;32m--> 340\u001b[0;31m         \u001b[0mresult\u001b[0m \u001b[0;34m=\u001b[0m \u001b[0msuper\u001b[0m\u001b[0;34m(\u001b[0m\u001b[0;34m)\u001b[0m\u001b[0;34m.\u001b[0m\u001b[0m__getattr__\u001b[0m\u001b[0;34m(\u001b[0m\u001b[0mname\u001b[0m\u001b[0;34m)\u001b[0m\u001b[0;34m\u001b[0m\u001b[0;34m\u001b[0m\u001b[0m\n\u001b[0m\u001b[1;32m    341\u001b[0m \u001b[0;34m\u001b[0m\u001b[0m\n\u001b[1;32m    342\u001b[0m         \u001b[0;31m# Regular nn.Parameters trigger pyro.param statements.\u001b[0m\u001b[0;34m\u001b[0m\u001b[0;34m\u001b[0m\u001b[0;34m\u001b[0m\u001b[0m\n",
            "\u001b[0;32m/usr/local/lib/python3.6/dist-packages/torch/nn/modules/module.py\u001b[0m in \u001b[0;36m__getattr__\u001b[0;34m(self, name)\u001b[0m\n\u001b[1;32m    574\u001b[0m                 \u001b[0;32mreturn\u001b[0m \u001b[0mmodules\u001b[0m\u001b[0;34m[\u001b[0m\u001b[0mname\u001b[0m\u001b[0;34m]\u001b[0m\u001b[0;34m\u001b[0m\u001b[0;34m\u001b[0m\u001b[0m\n\u001b[1;32m    575\u001b[0m         raise AttributeError(\"'{}' object has no attribute '{}'\".format(\n\u001b[0;32m--> 576\u001b[0;31m             type(self).__name__, name))\n\u001b[0m\u001b[1;32m    577\u001b[0m \u001b[0;34m\u001b[0m\u001b[0m\n\u001b[1;32m    578\u001b[0m     \u001b[0;32mdef\u001b[0m \u001b[0m__setattr__\u001b[0m\u001b[0;34m(\u001b[0m\u001b[0mself\u001b[0m\u001b[0;34m,\u001b[0m \u001b[0mname\u001b[0m\u001b[0;34m,\u001b[0m \u001b[0mvalue\u001b[0m\u001b[0;34m)\u001b[0m\u001b[0;34m:\u001b[0m\u001b[0;34m\u001b[0m\u001b[0;34m\u001b[0m\u001b[0m\n",
            "\u001b[0;31mAttributeError\u001b[0m: 'BayesianRegression2' object has no attribute 'linea2'"
          ]
        }
      ]
    },
    {
      "cell_type": "code",
      "metadata": {
        "id": "4IrZdSzgcZ2q",
        "colab_type": "code",
        "colab": {}
      },
      "source": [
        "guide = AutoDiagonalNormal(model)"
      ],
      "execution_count": 0,
      "outputs": []
    },
    {
      "cell_type": "code",
      "metadata": {
        "id": "C7uq7pHTOoaX",
        "colab_type": "code",
        "colab": {}
      },
      "source": [
        "num_iterations = 500 \n",
        "adam = pyro.optim.Adam({\"lr\": 0.03})\n",
        "svi = SVI(model, guide, adam, loss=Trace_ELBO())\n",
        "# svi = SVI(model0, guide, adam, loss=Trace_ELBO())"
      ],
      "execution_count": 0,
      "outputs": []
    },
    {
      "cell_type": "code",
      "metadata": {
        "id": "Kp9dvM9VOO2_",
        "colab_type": "code",
        "outputId": "8d464839-92ff-42d5-a1d2-e93527e52965",
        "colab": {
          "base_uri": "https://localhost:8080/",
          "height": 102
        }
      },
      "source": [
        "pyro.clear_param_store()\n",
        "for j in range(num_iterations):\n",
        "    loss = svi.step(x_data.view(-1,3), y_data)\n",
        "    if j % 100 == 0:\n",
        "        print(\"[iteration %04d] loss: %.4f\" % (j + 1, loss / len(x_data)))"
      ],
      "execution_count": 0,
      "outputs": [
        {
          "output_type": "stream",
          "text": [
            "[iteration 0001] loss: 5.2017\n",
            "[iteration 0101] loss: 3.3207\n",
            "[iteration 0201] loss: 3.0832\n",
            "[iteration 0301] loss: 2.7898\n",
            "[iteration 0401] loss: 2.2086\n"
          ],
          "name": "stdout"
        }
      ]
    },
    {
      "cell_type": "code",
      "metadata": {
        "id": "G7vyTRy0TIr-",
        "colab_type": "code",
        "colab": {}
      },
      "source": [
        "from pyro.infer import Predictive\n",
        "\n",
        "def summary(samples):\n",
        "    site_stats = {}\n",
        "    for k, v in samples.items():\n",
        "        site_stats[k] = {\n",
        "            \"mean\": torch.mean(v, 0),\n",
        "            \"std\": torch.std(v, 0),\n",
        "            \"5%\": v.kthvalue(int(len(v) * 0.05), dim=0)[0],\n",
        "            \"95%\": v.kthvalue(int(len(v) * 0.95), dim=0)[0],\n",
        "        }\n",
        "    return site_stats"
      ],
      "execution_count": 0,
      "outputs": []
    },
    {
      "cell_type": "code",
      "metadata": {
        "id": "xUlS9IxNSM6t",
        "colab_type": "code",
        "outputId": "cf995f31-b275-494c-c519-b1bbe19e0675",
        "colab": {
          "base_uri": "https://localhost:8080/",
          "height": 341
        }
      },
      "source": [
        "predictive = Predictive(model, guide=guide, num_samples=800, return_sites=(\"linear.weight\", \"obs\", \"_RETURN\"))\n",
        "samples = predictive(x_data, y_data)\n",
        "pred_summary = summary(samples)"
      ],
      "execution_count": 0,
      "outputs": [
        {
          "output_type": "error",
          "ename": "NameError",
          "evalue": "ignored",
          "traceback": [
            "\u001b[0;31m---------------------------------------------------------------------------\u001b[0m",
            "\u001b[0;31mNameError\u001b[0m                                 Traceback (most recent call last)",
            "\u001b[0;32m<ipython-input-70-66f64837dc36>\u001b[0m in \u001b[0;36m<module>\u001b[0;34m()\u001b[0m\n\u001b[1;32m      1\u001b[0m \u001b[0mpredictive\u001b[0m \u001b[0;34m=\u001b[0m \u001b[0mPredictive\u001b[0m\u001b[0;34m(\u001b[0m\u001b[0mmodel\u001b[0m\u001b[0;34m,\u001b[0m \u001b[0mguide\u001b[0m\u001b[0;34m=\u001b[0m\u001b[0mguide\u001b[0m\u001b[0;34m,\u001b[0m \u001b[0mnum_samples\u001b[0m\u001b[0;34m=\u001b[0m\u001b[0;36m800\u001b[0m\u001b[0;34m,\u001b[0m \u001b[0mreturn_sites\u001b[0m\u001b[0;34m=\u001b[0m\u001b[0;34m(\u001b[0m\u001b[0;34m\"linear.weight\"\u001b[0m\u001b[0;34m,\u001b[0m \u001b[0;34m\"obs\"\u001b[0m\u001b[0;34m,\u001b[0m \u001b[0;34m\"_RETURN\"\u001b[0m\u001b[0;34m)\u001b[0m\u001b[0;34m)\u001b[0m\u001b[0;34m\u001b[0m\u001b[0;34m\u001b[0m\u001b[0m\n\u001b[0;32m----> 2\u001b[0;31m \u001b[0msamples\u001b[0m \u001b[0;34m=\u001b[0m \u001b[0mpredictive\u001b[0m\u001b[0;34m(\u001b[0m\u001b[0mx_data\u001b[0m\u001b[0;34m,\u001b[0m \u001b[0my_data\u001b[0m\u001b[0;34m)\u001b[0m\u001b[0;34m\u001b[0m\u001b[0;34m\u001b[0m\u001b[0m\n\u001b[0m\u001b[1;32m      3\u001b[0m \u001b[0mpred_summary\u001b[0m \u001b[0;34m=\u001b[0m \u001b[0msummary\u001b[0m\u001b[0;34m(\u001b[0m\u001b[0msamples\u001b[0m\u001b[0;34m)\u001b[0m\u001b[0;34m\u001b[0m\u001b[0;34m\u001b[0m\u001b[0m\n",
            "\u001b[0;32m/usr/local/lib/python3.6/dist-packages/torch/nn/modules/module.py\u001b[0m in \u001b[0;36m__call__\u001b[0;34m(self, *input, **kwargs)\u001b[0m\n\u001b[1;32m    530\u001b[0m             \u001b[0mresult\u001b[0m \u001b[0;34m=\u001b[0m \u001b[0mself\u001b[0m\u001b[0;34m.\u001b[0m\u001b[0m_slow_forward\u001b[0m\u001b[0;34m(\u001b[0m\u001b[0;34m*\u001b[0m\u001b[0minput\u001b[0m\u001b[0;34m,\u001b[0m \u001b[0;34m**\u001b[0m\u001b[0mkwargs\u001b[0m\u001b[0;34m)\u001b[0m\u001b[0;34m\u001b[0m\u001b[0;34m\u001b[0m\u001b[0m\n\u001b[1;32m    531\u001b[0m         \u001b[0;32melse\u001b[0m\u001b[0;34m:\u001b[0m\u001b[0;34m\u001b[0m\u001b[0;34m\u001b[0m\u001b[0m\n\u001b[0;32m--> 532\u001b[0;31m             \u001b[0mresult\u001b[0m \u001b[0;34m=\u001b[0m \u001b[0mself\u001b[0m\u001b[0;34m.\u001b[0m\u001b[0mforward\u001b[0m\u001b[0;34m(\u001b[0m\u001b[0;34m*\u001b[0m\u001b[0minput\u001b[0m\u001b[0;34m,\u001b[0m \u001b[0;34m**\u001b[0m\u001b[0mkwargs\u001b[0m\u001b[0;34m)\u001b[0m\u001b[0;34m\u001b[0m\u001b[0;34m\u001b[0m\u001b[0m\n\u001b[0m\u001b[1;32m    533\u001b[0m         \u001b[0;32mfor\u001b[0m \u001b[0mhook\u001b[0m \u001b[0;32min\u001b[0m \u001b[0mself\u001b[0m\u001b[0;34m.\u001b[0m\u001b[0m_forward_hooks\u001b[0m\u001b[0;34m.\u001b[0m\u001b[0mvalues\u001b[0m\u001b[0;34m(\u001b[0m\u001b[0;34m)\u001b[0m\u001b[0;34m:\u001b[0m\u001b[0;34m\u001b[0m\u001b[0;34m\u001b[0m\u001b[0m\n\u001b[1;32m    534\u001b[0m             \u001b[0mhook_result\u001b[0m \u001b[0;34m=\u001b[0m \u001b[0mhook\u001b[0m\u001b[0;34m(\u001b[0m\u001b[0mself\u001b[0m\u001b[0;34m,\u001b[0m \u001b[0minput\u001b[0m\u001b[0;34m,\u001b[0m \u001b[0mresult\u001b[0m\u001b[0;34m)\u001b[0m\u001b[0;34m\u001b[0m\u001b[0;34m\u001b[0m\u001b[0m\n",
            "\u001b[0;32m/usr/local/lib/python3.6/dist-packages/pyro/infer/predictive.py\u001b[0m in \u001b[0;36mforward\u001b[0;34m(self, *args, **kwargs)\u001b[0m\n\u001b[1;32m    197\u001b[0m             \u001b[0mreturn_sites\u001b[0m \u001b[0;34m=\u001b[0m \u001b[0;32mNone\u001b[0m \u001b[0;32mif\u001b[0m \u001b[0;32mnot\u001b[0m \u001b[0mreturn_sites\u001b[0m \u001b[0;32melse\u001b[0m \u001b[0mreturn_sites\u001b[0m\u001b[0;34m\u001b[0m\u001b[0;34m\u001b[0m\u001b[0m\n\u001b[1;32m    198\u001b[0m             posterior_samples = _predictive(self.guide, posterior_samples, self.num_samples, return_sites=None,\n\u001b[0;32m--> 199\u001b[0;31m                                             parallel=self.parallel, model_args=args, model_kwargs=kwargs)\n\u001b[0m\u001b[1;32m    200\u001b[0m         return _predictive(self.model, posterior_samples, self.num_samples, return_sites=return_sites,\n\u001b[1;32m    201\u001b[0m                            parallel=self.parallel, model_args=args, model_kwargs=kwargs)\n",
            "\u001b[0;32m/usr/local/lib/python3.6/dist-packages/pyro/infer/predictive.py\u001b[0m in \u001b[0;36m_predictive\u001b[0;34m(model, posterior_samples, num_samples, return_sites, return_trace, parallel, model_args, model_kwargs)\u001b[0m\n\u001b[1;32m     51\u001b[0m def _predictive(model, posterior_samples, num_samples, return_sites=(),\n\u001b[1;32m     52\u001b[0m                 return_trace=False, parallel=False, model_args=(), model_kwargs={}):\n\u001b[0;32m---> 53\u001b[0;31m     \u001b[0mmax_plate_nesting\u001b[0m \u001b[0;34m=\u001b[0m \u001b[0m_guess_max_plate_nesting\u001b[0m\u001b[0;34m(\u001b[0m\u001b[0mmodel\u001b[0m\u001b[0;34m,\u001b[0m \u001b[0mmodel_args\u001b[0m\u001b[0;34m,\u001b[0m \u001b[0mmodel_kwargs\u001b[0m\u001b[0;34m)\u001b[0m\u001b[0;34m\u001b[0m\u001b[0;34m\u001b[0m\u001b[0m\n\u001b[0m\u001b[1;32m     54\u001b[0m     \u001b[0mvectorize\u001b[0m \u001b[0;34m=\u001b[0m \u001b[0mpyro\u001b[0m\u001b[0;34m.\u001b[0m\u001b[0mplate\u001b[0m\u001b[0;34m(\u001b[0m\u001b[0;34m\"_num_predictive_samples\"\u001b[0m\u001b[0;34m,\u001b[0m \u001b[0mnum_samples\u001b[0m\u001b[0;34m,\u001b[0m \u001b[0mdim\u001b[0m\u001b[0;34m=\u001b[0m\u001b[0;34m-\u001b[0m\u001b[0mmax_plate_nesting\u001b[0m\u001b[0;34m-\u001b[0m\u001b[0;36m1\u001b[0m\u001b[0;34m)\u001b[0m\u001b[0;34m\u001b[0m\u001b[0;34m\u001b[0m\u001b[0m\n\u001b[1;32m     55\u001b[0m     \u001b[0mmodel_trace\u001b[0m \u001b[0;34m=\u001b[0m \u001b[0mprune_subsample_sites\u001b[0m\u001b[0;34m(\u001b[0m\u001b[0mpoutine\u001b[0m\u001b[0;34m.\u001b[0m\u001b[0mtrace\u001b[0m\u001b[0;34m(\u001b[0m\u001b[0mmodel\u001b[0m\u001b[0;34m)\u001b[0m\u001b[0;34m.\u001b[0m\u001b[0mget_trace\u001b[0m\u001b[0;34m(\u001b[0m\u001b[0;34m*\u001b[0m\u001b[0mmodel_args\u001b[0m\u001b[0;34m,\u001b[0m \u001b[0;34m**\u001b[0m\u001b[0mmodel_kwargs\u001b[0m\u001b[0;34m)\u001b[0m\u001b[0;34m)\u001b[0m\u001b[0;34m\u001b[0m\u001b[0;34m\u001b[0m\u001b[0m\n",
            "\u001b[0;32m/usr/local/lib/python3.6/dist-packages/pyro/infer/predictive.py\u001b[0m in \u001b[0;36m_guess_max_plate_nesting\u001b[0;34m(model, args, kwargs)\u001b[0m\n\u001b[1;32m     19\u001b[0m     \"\"\"\n\u001b[1;32m     20\u001b[0m     \u001b[0;32mwith\u001b[0m \u001b[0mpoutine\u001b[0m\u001b[0;34m.\u001b[0m\u001b[0mblock\u001b[0m\u001b[0;34m(\u001b[0m\u001b[0;34m)\u001b[0m\u001b[0;34m:\u001b[0m\u001b[0;34m\u001b[0m\u001b[0;34m\u001b[0m\u001b[0m\n\u001b[0;32m---> 21\u001b[0;31m         \u001b[0mmodel_trace\u001b[0m \u001b[0;34m=\u001b[0m \u001b[0mpoutine\u001b[0m\u001b[0;34m.\u001b[0m\u001b[0mtrace\u001b[0m\u001b[0;34m(\u001b[0m\u001b[0mmodel\u001b[0m\u001b[0;34m)\u001b[0m\u001b[0;34m.\u001b[0m\u001b[0mget_trace\u001b[0m\u001b[0;34m(\u001b[0m\u001b[0;34m*\u001b[0m\u001b[0margs\u001b[0m\u001b[0;34m,\u001b[0m \u001b[0;34m**\u001b[0m\u001b[0mkwargs\u001b[0m\u001b[0;34m)\u001b[0m\u001b[0;34m\u001b[0m\u001b[0;34m\u001b[0m\u001b[0m\n\u001b[0m\u001b[1;32m     22\u001b[0m     sites = [site for site in model_trace.nodes.values()\n\u001b[1;32m     23\u001b[0m              if site[\"type\"] == \"sample\"]\n",
            "\u001b[0;32m/usr/local/lib/python3.6/dist-packages/pyro/poutine/trace_messenger.py\u001b[0m in \u001b[0;36mget_trace\u001b[0;34m(self, *args, **kwargs)\u001b[0m\n\u001b[1;32m    183\u001b[0m         \u001b[0mCalls\u001b[0m \u001b[0mthis\u001b[0m \u001b[0mpoutine\u001b[0m \u001b[0;32mand\u001b[0m \u001b[0mreturns\u001b[0m \u001b[0mits\u001b[0m \u001b[0mtrace\u001b[0m \u001b[0minstead\u001b[0m \u001b[0mof\u001b[0m \u001b[0mthe\u001b[0m \u001b[0mfunction\u001b[0m\u001b[0;31m'\u001b[0m\u001b[0ms\u001b[0m \u001b[0;32mreturn\u001b[0m \u001b[0mvalue\u001b[0m\u001b[0;34m.\u001b[0m\u001b[0;34m\u001b[0m\u001b[0;34m\u001b[0m\u001b[0m\n\u001b[1;32m    184\u001b[0m         \"\"\"\n\u001b[0;32m--> 185\u001b[0;31m         \u001b[0mself\u001b[0m\u001b[0;34m(\u001b[0m\u001b[0;34m*\u001b[0m\u001b[0margs\u001b[0m\u001b[0;34m,\u001b[0m \u001b[0;34m**\u001b[0m\u001b[0mkwargs\u001b[0m\u001b[0;34m)\u001b[0m\u001b[0;34m\u001b[0m\u001b[0;34m\u001b[0m\u001b[0m\n\u001b[0m\u001b[1;32m    186\u001b[0m         \u001b[0;32mreturn\u001b[0m \u001b[0mself\u001b[0m\u001b[0;34m.\u001b[0m\u001b[0mmsngr\u001b[0m\u001b[0;34m.\u001b[0m\u001b[0mget_trace\u001b[0m\u001b[0;34m(\u001b[0m\u001b[0;34m)\u001b[0m\u001b[0;34m\u001b[0m\u001b[0;34m\u001b[0m\u001b[0m\n",
            "\u001b[0;32m/usr/local/lib/python3.6/dist-packages/pyro/poutine/trace_messenger.py\u001b[0m in \u001b[0;36m__call__\u001b[0;34m(self, *args, **kwargs)\u001b[0m\n\u001b[1;32m    163\u001b[0m                                       args=args, kwargs=kwargs)\n\u001b[1;32m    164\u001b[0m             \u001b[0;32mtry\u001b[0m\u001b[0;34m:\u001b[0m\u001b[0;34m\u001b[0m\u001b[0;34m\u001b[0m\u001b[0m\n\u001b[0;32m--> 165\u001b[0;31m                 \u001b[0mret\u001b[0m \u001b[0;34m=\u001b[0m \u001b[0mself\u001b[0m\u001b[0;34m.\u001b[0m\u001b[0mfn\u001b[0m\u001b[0;34m(\u001b[0m\u001b[0;34m*\u001b[0m\u001b[0margs\u001b[0m\u001b[0;34m,\u001b[0m \u001b[0;34m**\u001b[0m\u001b[0mkwargs\u001b[0m\u001b[0;34m)\u001b[0m\u001b[0;34m\u001b[0m\u001b[0;34m\u001b[0m\u001b[0m\n\u001b[0m\u001b[1;32m    166\u001b[0m             \u001b[0;32mexcept\u001b[0m \u001b[0;34m(\u001b[0m\u001b[0mValueError\u001b[0m\u001b[0;34m,\u001b[0m \u001b[0mRuntimeError\u001b[0m\u001b[0;34m)\u001b[0m\u001b[0;34m:\u001b[0m\u001b[0;34m\u001b[0m\u001b[0;34m\u001b[0m\u001b[0m\n\u001b[1;32m    167\u001b[0m                 \u001b[0mexc_type\u001b[0m\u001b[0;34m,\u001b[0m \u001b[0mexc_value\u001b[0m\u001b[0;34m,\u001b[0m \u001b[0mtraceback\u001b[0m \u001b[0;34m=\u001b[0m \u001b[0msys\u001b[0m\u001b[0;34m.\u001b[0m\u001b[0mexc_info\u001b[0m\u001b[0;34m(\u001b[0m\u001b[0;34m)\u001b[0m\u001b[0;34m\u001b[0m\u001b[0;34m\u001b[0m\u001b[0m\n",
            "\u001b[0;32m<ipython-input-65-848fd7469b57>\u001b[0m in \u001b[0;36mguide\u001b[0;34m(x_data, y_data)\u001b[0m\n\u001b[1;32m      5\u001b[0m     \u001b[0moutw_sigma\u001b[0m \u001b[0;34m=\u001b[0m \u001b[0mtorch\u001b[0m\u001b[0;34m.\u001b[0m\u001b[0mrandn_like\u001b[0m\u001b[0;34m(\u001b[0m\u001b[0mnet\u001b[0m\u001b[0;34m.\u001b[0m\u001b[0mout\u001b[0m\u001b[0;34m.\u001b[0m\u001b[0mweight\u001b[0m\u001b[0;34m)\u001b[0m\u001b[0;34m\u001b[0m\u001b[0;34m\u001b[0m\u001b[0m\n\u001b[1;32m      6\u001b[0m     \u001b[0moutw_mu_param\u001b[0m \u001b[0;34m=\u001b[0m \u001b[0mpyro\u001b[0m\u001b[0;34m.\u001b[0m\u001b[0mparam\u001b[0m\u001b[0;34m(\u001b[0m\u001b[0;34m\"outw_mu\"\u001b[0m\u001b[0;34m,\u001b[0m \u001b[0moutw_mu\u001b[0m\u001b[0;34m)\u001b[0m\u001b[0;34m\u001b[0m\u001b[0;34m\u001b[0m\u001b[0m\n\u001b[0;32m----> 7\u001b[0;31m     \u001b[0moutw_sigma_param\u001b[0m \u001b[0;34m=\u001b[0m \u001b[0msoftplus\u001b[0m\u001b[0;34m(\u001b[0m\u001b[0mpyro\u001b[0m\u001b[0;34m.\u001b[0m\u001b[0mparam\u001b[0m\u001b[0;34m(\u001b[0m\u001b[0;34m\"outw_sigma\"\u001b[0m\u001b[0;34m,\u001b[0m \u001b[0moutw_sigma\u001b[0m\u001b[0;34m)\u001b[0m\u001b[0;34m)\u001b[0m\u001b[0;34m\u001b[0m\u001b[0;34m\u001b[0m\u001b[0m\n\u001b[0m\u001b[1;32m      8\u001b[0m     \u001b[0moutw_prior\u001b[0m \u001b[0;34m=\u001b[0m \u001b[0mNormal\u001b[0m\u001b[0;34m(\u001b[0m\u001b[0mloc\u001b[0m\u001b[0;34m=\u001b[0m\u001b[0moutw_mu_param\u001b[0m\u001b[0;34m,\u001b[0m \u001b[0mscale\u001b[0m\u001b[0;34m=\u001b[0m\u001b[0moutw_sigma_param\u001b[0m\u001b[0;34m)\u001b[0m\u001b[0;34m.\u001b[0m\u001b[0mindependent\u001b[0m\u001b[0;34m(\u001b[0m\u001b[0;36m1\u001b[0m\u001b[0;34m)\u001b[0m\u001b[0;34m\u001b[0m\u001b[0;34m\u001b[0m\u001b[0m\n\u001b[1;32m      9\u001b[0m     \u001b[0;31m# Output layer bias distribution priors\u001b[0m\u001b[0;34m\u001b[0m\u001b[0;34m\u001b[0m\u001b[0;34m\u001b[0m\u001b[0m\n",
            "\u001b[0;31mNameError\u001b[0m: name 'softplus' is not defined"
          ]
        }
      ]
    },
    {
      "cell_type": "code",
      "metadata": {
        "id": "uAN55PukSceV",
        "colab_type": "code",
        "colab": {}
      },
      "source": [
        ""
      ],
      "execution_count": 0,
      "outputs": []
    },
    {
      "cell_type": "code",
      "metadata": {
        "id": "bK25zJXrZ2x_",
        "colab_type": "code",
        "outputId": "7b1c80a3-d3d8-4c96-ebf5-56ae475b6dd8",
        "colab": {
          "base_uri": "https://localhost:8080/",
          "height": 34
        }
      },
      "source": [
        "x_data.size()"
      ],
      "execution_count": 0,
      "outputs": [
        {
          "output_type": "execute_result",
          "data": {
            "text/plain": [
              "torch.Size([170, 3])"
            ]
          },
          "metadata": {
            "tags": []
          },
          "execution_count": 42
        }
      ]
    },
    {
      "cell_type": "code",
      "metadata": {
        "id": "dwVA_MTwm84Q",
        "colab_type": "code",
        "colab": {}
      },
      "source": [
        "from pyro.distributions import Bernoulli, Categorical, MultivariateNormal, Normal"
      ],
      "execution_count": 0,
      "outputs": []
    },
    {
      "cell_type": "code",
      "metadata": {
        "id": "9Uc244kFZ4ls",
        "colab_type": "code",
        "outputId": "6fbae97b-c92d-4948-ee24-701c08357fdb",
        "colab": {
          "base_uri": "https://localhost:8080/",
          "height": 34
        }
      },
      "source": [
        "d = Bernoulli(0.5 * torch.ones(3,4,5)).to_event(1)\n",
        "d.event_shape "
      ],
      "execution_count": 0,
      "outputs": [
        {
          "output_type": "execute_result",
          "data": {
            "text/plain": [
              "torch.Size([5])"
            ]
          },
          "metadata": {
            "tags": []
          },
          "execution_count": 190
        }
      ]
    },
    {
      "cell_type": "code",
      "metadata": {
        "id": "czMevymunP1f",
        "colab_type": "code",
        "colab": {}
      },
      "source": [
        "assert d.batch_shape == (3,)\n",
        "assert d.event_shape == (4,)\n",
        "x = d.sample()\n",
        "assert x.shape == (3, 4)\n",
        "assert d.log_prob(x).shape == (3,)"
      ],
      "execution_count": 0,
      "outputs": []
    },
    {
      "cell_type": "code",
      "metadata": {
        "id": "6iVGhn0Mm3Qd",
        "colab_type": "code",
        "outputId": "8dd44f55-0306-49d1-83ff-dfcb1063acda",
        "colab": {
          "base_uri": "https://localhost:8080/",
          "height": 34
        }
      },
      "source": [
        "d.batch_shape"
      ],
      "execution_count": 0,
      "outputs": [
        {
          "output_type": "execute_result",
          "data": {
            "text/plain": [
              "torch.Size([3, 4])"
            ]
          },
          "metadata": {
            "tags": []
          },
          "execution_count": 177
        }
      ]
    },
    {
      "cell_type": "code",
      "metadata": {
        "id": "Ois1H5V0nB-E",
        "colab_type": "code",
        "outputId": "cda1a7e7-0387-42e8-f1f1-f5e876a7d6e9",
        "colab": {
          "base_uri": "https://localhost:8080/",
          "height": 34
        }
      },
      "source": [
        "x = d.sample()\n",
        "x.shape"
      ],
      "execution_count": 0,
      "outputs": [
        {
          "output_type": "execute_result",
          "data": {
            "text/plain": [
              "torch.Size([3, 4, 5])"
            ]
          },
          "metadata": {
            "tags": []
          },
          "execution_count": 183
        }
      ]
    },
    {
      "cell_type": "code",
      "metadata": {
        "id": "p8L5JnCOnFUv",
        "colab_type": "code",
        "outputId": "81238722-6244-4e2b-8c38-aff75f6e66ff",
        "colab": {
          "base_uri": "https://localhost:8080/",
          "height": 34
        }
      },
      "source": [
        "d"
      ],
      "execution_count": 0,
      "outputs": [
        {
          "output_type": "execute_result",
          "data": {
            "text/plain": [
              "Independent()"
            ]
          },
          "metadata": {
            "tags": []
          },
          "execution_count": 179
        }
      ]
    },
    {
      "cell_type": "code",
      "metadata": {
        "id": "ihIyRnMvnhT0",
        "colab_type": "code",
        "colab": {}
      },
      "source": [
        ""
      ],
      "execution_count": 0,
      "outputs": []
    }
  ]
}